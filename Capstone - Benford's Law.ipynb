{
 "cells": [
  {
   "cell_type": "markdown",
   "id": "d457ee10",
   "metadata": {},
   "source": [
    "<div id=\"container\" style=\"position:relative;\">\n",
    "<div style=\"float:left\"><h1> Leveraging Data Science to Promote Transparency in Elections: </h1></div>\n",
    "<div style=\"float:left\"><h2> The case of Peru </h2></div> \n",
    "<div style=\"position:relative; float:right\"><img style=\"height:60px\" src =\"https://drive.google.com/uc?export=view&id=1EnB0x-fdqMp6I5iMoEBBEuxB_s7AmE2k\" />\n",
    "</div>\n",
    "</div>    "
   ]
  },
  {
   "cell_type": "markdown",
   "id": "3df54534",
   "metadata": {},
   "source": [
    "### Notebook 4 of 4 : Application of Benford's Law  \n",
    "**by Giancarlo Marchesi**"
   ]
  },
  {
   "cell_type": "markdown",
   "id": "e65161c8",
   "metadata": {},
   "source": [
    "## Introduction"
   ]
  },
  {
   "cell_type": "markdown",
   "id": "ccb01d9d",
   "metadata": {},
   "source": [
    "One of the limitations of the previous regression analysis is that it's performed on 97.7% of total observations. As we saw in the EDA notebook, 84452 of the 86488 polling stations have valid data for both rounds. \n",
    "\n",
    "However, the second round by itself has 86255 valid stations and, conversely, the first round has 85002. Information is lost when intersecting the two and because of inconsistencies in the number of elegible voters in between rounds. \n",
    "\n",
    "The application  of Benford's law can provide an additional consitency check for election results. In their paper *\"What the Numbers Say: A Digit-Based Test for Election Fraud\"* Bernd Beber and Alexandra Scacco in *Political Analysis (2012) 20:211–234* posit that \"fair election procedures produce returns where last digits occur with equal frequency, but laboratory experiments indicate that individuals tend to favor some numerals over others, even when subjects have incentives to properly randomize\". Since in the Peruvian election, ballot summary sheets are, ultimately, handwritten, any systematic bias from poll workers \"inventing\" the numbers could potentially show up under this lens. \n",
    "\n",
    "The authors tested for deviations in digit patterns using data from Sweden’s 2002 parliamentary elections, Senegal’s 2000 and 2007 presidential elections, and previously unavailable results from Nigeria’s 2003 presidential election. In line with observers’ expectations, they find substantial evidence that manipulation occurred in Nigeria as well as in Senegal in 2007, as the digit '0' was found to be overepresented in as statitistically significant manner, whereas elections in Sweeden show results for all 10 digits within the expected confidence interval. \n",
    "\n",
    "In this section, we apply Benford's law to the last digit of total votes and votes for Castillo and Fujimori for both rounds in each individual polling station. The results for each digit should be within the confidence interval to comply with Benford's law. "
   ]
  },
  {
   "cell_type": "markdown",
   "id": "5a66263e",
   "metadata": {},
   "source": [
    "### 1. Feature engineering "
   ]
  },
  {
   "cell_type": "markdown",
   "id": "d598725d",
   "metadata": {},
   "source": [
    "It'll be necessary to extract the last digit of votes per polling statiton for each of the candidates and the total in the first and second round clean data sets that were exported during EDA. "
   ]
  },
  {
   "cell_type": "code",
   "execution_count": 1,
   "id": "f6b4d964",
   "metadata": {},
   "outputs": [],
   "source": [
    "## Import the necessary libraries\n",
    "from scipy import stats\n",
    "import statsmodels.api as sm\n",
    "import pandas as pd\n",
    "import numpy as np\n",
    "import matplotlib.pyplot as plt\n",
    "import seaborn as sns \n",
    "import warnings\n",
    "warnings.filterwarnings(\"ignore\")"
   ]
  },
  {
   "cell_type": "code",
   "execution_count": 2,
   "id": "7ff2ae45",
   "metadata": {},
   "outputs": [],
   "source": [
    "## Importing the dataset with valid second round votes after EDA\n",
    "dfsec=pd.read_csv('data/second_round_clean.csv')"
   ]
  },
  {
   "cell_type": "code",
   "execution_count": 3,
   "id": "5dd34be6",
   "metadata": {},
   "outputs": [
    {
     "data": {
      "text/plain": [
       "(86255, 14)"
      ]
     },
     "execution_count": 3,
     "metadata": {},
     "output_type": "execute_result"
    }
   ],
   "source": [
    "dfsec.shape"
   ]
  },
  {
   "cell_type": "code",
   "execution_count": 4,
   "id": "a97079c9",
   "metadata": {},
   "outputs": [],
   "source": [
    "## Importing the dataset with valid second round votes after EDA\n",
    "dffir=pd.read_csv('data/first_round_clean.csv')"
   ]
  },
  {
   "cell_type": "code",
   "execution_count": 5,
   "id": "f8d17030",
   "metadata": {},
   "outputs": [
    {
     "data": {
      "text/plain": [
       "(85002, 30)"
      ]
     },
     "execution_count": 5,
     "metadata": {},
     "output_type": "execute_result"
    }
   ],
   "source": [
    "dffir.shape"
   ]
  },
  {
   "cell_type": "markdown",
   "id": "1814fed7",
   "metadata": {},
   "source": [
    "#### 1.1 Second round data"
   ]
  },
  {
   "cell_type": "code",
   "execution_count": 6,
   "id": "fbb0a53b",
   "metadata": {},
   "outputs": [
    {
     "data": {
      "text/plain": [
       "Index(['Geocode', 'State', 'Province', 'District', 'Poll_station',\n",
       "       'Ballot_summary_cond_2', 'Votes_2', 'Eligible_voters_2', 'Castillo_2',\n",
       "       'Fujimori_2', 'Blank_2', 'Null_2', 'Contested_2', 'Region'],\n",
       "      dtype='object')"
      ]
     },
     "execution_count": 6,
     "metadata": {},
     "output_type": "execute_result"
    }
   ],
   "source": [
    "dfsec.columns"
   ]
  },
  {
   "cell_type": "code",
   "execution_count": 7,
   "id": "0152b36a",
   "metadata": {},
   "outputs": [],
   "source": [
    "## To perform Benford's law analysis we need the last digit of Castillo_2, Fujimori_2, Votes_2 \n",
    "## First we turn them to strings\n",
    "dfsec['str_Cast2']=dfsec['Castillo_2'].astype('str')\n",
    "dfsec['str_Fuji2']=dfsec['Fujimori_2'].astype('str')\n",
    "dfsec['str_Vote2']=dfsec['Votes_2'].astype('str')"
   ]
  },
  {
   "cell_type": "code",
   "execution_count": 8,
   "id": "052fb6df",
   "metadata": {},
   "outputs": [
    {
     "data": {
      "text/plain": [
       "0        115.0\n",
       "1         71.0\n",
       "2         71.0\n",
       "3         66.0\n",
       "4        125.0\n",
       "         ...  \n",
       "86250    101.0\n",
       "86251     92.0\n",
       "86252     98.0\n",
       "86253     76.0\n",
       "86254    105.0\n",
       "Name: str_Cast2, Length: 86255, dtype: object"
      ]
     },
     "execution_count": 8,
     "metadata": {},
     "output_type": "execute_result"
    }
   ],
   "source": [
    "dfsec.str_Cast2"
   ]
  },
  {
   "cell_type": "markdown",
   "id": "82da60d7",
   "metadata": {},
   "source": [
    "The digits have been converted from floats to objects. "
   ]
  },
  {
   "cell_type": "code",
   "execution_count": 9,
   "id": "ff705170",
   "metadata": {},
   "outputs": [],
   "source": [
    "## To obtain the last digit of castillo votes\n",
    "dfsec['last_Cast2']=dfsec['str_Cast2'].str[-3] "
   ]
  },
  {
   "cell_type": "code",
   "execution_count": 10,
   "id": "788e7f26",
   "metadata": {},
   "outputs": [
    {
     "data": {
      "text/plain": [
       "0        5\n",
       "1        1\n",
       "2        1\n",
       "3        6\n",
       "4        5\n",
       "        ..\n",
       "86250    1\n",
       "86251    2\n",
       "86252    8\n",
       "86253    6\n",
       "86254    5\n",
       "Name: last_Cast2, Length: 86255, dtype: object"
      ]
     },
     "execution_count": 10,
     "metadata": {},
     "output_type": "execute_result"
    }
   ],
   "source": [
    "dfsec['last_Cast2']"
   ]
  },
  {
   "cell_type": "markdown",
   "id": "8582f114",
   "metadata": {},
   "source": [
    "We've successfully extracted the last digit. Now it needs to be an integer. "
   ]
  },
  {
   "cell_type": "code",
   "execution_count": 11,
   "id": "ac30b861",
   "metadata": {},
   "outputs": [],
   "source": [
    "dfsec['last_Cast2']=dfsec['last_Cast2'].astype('int')"
   ]
  },
  {
   "cell_type": "code",
   "execution_count": 12,
   "id": "94a0edf3",
   "metadata": {},
   "outputs": [
    {
     "data": {
      "text/plain": [
       "0        5\n",
       "1        1\n",
       "2        1\n",
       "3        6\n",
       "4        5\n",
       "        ..\n",
       "86250    1\n",
       "86251    2\n",
       "86252    8\n",
       "86253    6\n",
       "86254    5\n",
       "Name: last_Cast2, Length: 86255, dtype: int32"
      ]
     },
     "execution_count": 12,
     "metadata": {},
     "output_type": "execute_result"
    }
   ],
   "source": [
    "dfsec['last_Cast2']"
   ]
  },
  {
   "cell_type": "code",
   "execution_count": 13,
   "id": "d533028a",
   "metadata": {},
   "outputs": [],
   "source": [
    "## Now to do the same with the other 2 necessary variables\n",
    "dfsec['last_Fuji2']=dfsec['str_Fuji2'].str[-3]"
   ]
  },
  {
   "cell_type": "code",
   "execution_count": 14,
   "id": "acbf7b15",
   "metadata": {},
   "outputs": [
    {
     "data": {
      "text/plain": [
       "0        7\n",
       "1        8\n",
       "2        0\n",
       "3        5\n",
       "4        7\n",
       "        ..\n",
       "86250    5\n",
       "86251    4\n",
       "86252    2\n",
       "86253    2\n",
       "86254    6\n",
       "Name: last_Fuji2, Length: 86255, dtype: object"
      ]
     },
     "execution_count": 14,
     "metadata": {},
     "output_type": "execute_result"
    }
   ],
   "source": [
    "dfsec['last_Fuji2']"
   ]
  },
  {
   "cell_type": "code",
   "execution_count": 15,
   "id": "34e9e054",
   "metadata": {},
   "outputs": [],
   "source": [
    "dfsec['last_Fuji2']=dfsec['last_Fuji2'].astype('int')"
   ]
  },
  {
   "cell_type": "code",
   "execution_count": 16,
   "id": "9d1fc8b1",
   "metadata": {},
   "outputs": [],
   "source": [
    "dfsec['last_Vote2']=dfsec['str_Vote2'].str[-3]\n",
    "dfsec['last_Vote2']=dfsec['last_Vote2'].astype('int')"
   ]
  },
  {
   "cell_type": "markdown",
   "id": "e39b9e84",
   "metadata": {},
   "source": [
    "#### 1.2 First round data"
   ]
  },
  {
   "cell_type": "code",
   "execution_count": 17,
   "id": "d781ac55",
   "metadata": {},
   "outputs": [
    {
     "data": {
      "text/plain": [
       "Index(['Geocode', 'State', 'Province', 'District', 'Poll_station',\n",
       "       'Ballot_summary_cond_1', 'Votes_1', 'Eligible_voters_1', 'Humala',\n",
       "       'Arana', 'Guzman', 'Santos', 'Forsyth', 'Lescano', 'De_Soto', 'Urresti',\n",
       "       'Mendoza', 'Beingolea', 'Fujimori_1', 'Vega', 'Lopez', 'Galvez',\n",
       "       'Salaverry', 'Castillo_1', 'Alcantara', 'Acuna', 'Blank_1', 'Null_1',\n",
       "       'Contested_1', 'Region'],\n",
       "      dtype='object')"
      ]
     },
     "execution_count": 17,
     "metadata": {},
     "output_type": "execute_result"
    }
   ],
   "source": [
    "dffir.columns"
   ]
  },
  {
   "cell_type": "code",
   "execution_count": 18,
   "id": "352ee659",
   "metadata": {},
   "outputs": [],
   "source": [
    "##Turning the 3 variables to strings\n",
    "dffir['str_Votes1']=dffir['Votes_1'].astype('str')\n",
    "dffir['str_Fujimori1']=dffir['Fujimori_1'].astype('str')\n",
    "dffir['str_Castillo1']=dffir['Castillo_1'].astype('str')"
   ]
  },
  {
   "cell_type": "code",
   "execution_count": 19,
   "id": "0484113b",
   "metadata": {},
   "outputs": [],
   "source": [
    "## Extracting the last digit and converting to integer\n",
    "dffir['last_Vote1']=dffir['str_Votes1'].str[-3]\n",
    "dffir['last_Vote1']=dffir['last_Vote1'].astype('int')"
   ]
  },
  {
   "cell_type": "code",
   "execution_count": 20,
   "id": "2544e416",
   "metadata": {},
   "outputs": [
    {
     "data": {
      "text/plain": [
       "0        7\n",
       "1        4\n",
       "2        4\n",
       "3        1\n",
       "4        9\n",
       "        ..\n",
       "84997    8\n",
       "84998    5\n",
       "84999    3\n",
       "85000    6\n",
       "85001    7\n",
       "Name: last_Vote1, Length: 85002, dtype: int32"
      ]
     },
     "execution_count": 20,
     "metadata": {},
     "output_type": "execute_result"
    }
   ],
   "source": [
    "dffir['last_Vote1']"
   ]
  },
  {
   "cell_type": "code",
   "execution_count": 21,
   "id": "04c37a65",
   "metadata": {},
   "outputs": [],
   "source": [
    "## Extracting the last digit and converting to integer\n",
    "dffir['last_Fuji1']=dffir['str_Fujimori1'].str[-3]\n",
    "dffir['last_Fuji1']=dffir['last_Fuji1'].astype('int')"
   ]
  },
  {
   "cell_type": "code",
   "execution_count": 22,
   "id": "f7e0ca1a",
   "metadata": {},
   "outputs": [],
   "source": [
    "## Extracting the last digit and converting to integer\n",
    "dffir['last_Cast1']=dffir['str_Castillo1'].str[-3]\n",
    "dffir['last_Cast1']=dffir['last_Cast1'].astype('int')"
   ]
  },
  {
   "cell_type": "markdown",
   "id": "96407537",
   "metadata": {},
   "source": [
    "### 2. Applying Benford's Law to total votes"
   ]
  },
  {
   "cell_type": "markdown",
   "id": "a19ba521",
   "metadata": {},
   "source": [
    "#### 2.1 First round "
   ]
  },
  {
   "cell_type": "code",
   "execution_count": 23,
   "id": "15a05beb",
   "metadata": {},
   "outputs": [
    {
     "data": {
      "text/plain": [
       "last_Vote1\n",
       "0    8712\n",
       "1    8367\n",
       "2    8423\n",
       "3    8473\n",
       "4    8528\n",
       "5    8593\n",
       "6    8465\n",
       "7    8571\n",
       "8    8349\n",
       "9    8521\n",
       "Name: last_Vote1, dtype: int64"
      ]
     },
     "execution_count": 23,
     "metadata": {},
     "output_type": "execute_result"
    }
   ],
   "source": [
    "## Calculating the digit count for first round\n",
    "dffir.groupby('last_Vote1')['last_Vote1'].count()"
   ]
  },
  {
   "cell_type": "markdown",
   "id": "2b17e060",
   "metadata": {},
   "source": [
    "Let's calculate the confidence interval. "
   ]
  },
  {
   "cell_type": "code",
   "execution_count": 24,
   "id": "c7799082",
   "metadata": {},
   "outputs": [],
   "source": [
    "## Creating a dataframe for better visualization \n",
    "tv1=pd.DataFrame(data=dffir.groupby('last_Vote1')['last_Vote1'].count())"
   ]
  },
  {
   "cell_type": "code",
   "execution_count": 25,
   "id": "9b18313a",
   "metadata": {},
   "outputs": [],
   "source": [
    "##Renaming second column (both columns have the same name when coming out from the groupby)\n",
    "tv1.rename(columns={'last_Vote1' : 'totdigit'}, inplace=True)"
   ]
  },
  {
   "cell_type": "code",
   "execution_count": 26,
   "id": "44eb1c7f",
   "metadata": {},
   "outputs": [],
   "source": [
    "tv1['total']=85002"
   ]
  },
  {
   "cell_type": "code",
   "execution_count": 27,
   "id": "2912ee2e",
   "metadata": {},
   "outputs": [],
   "source": [
    "tv1['percent']=tv1['totdigit']/tv1['total']"
   ]
  },
  {
   "cell_type": "code",
   "execution_count": 28,
   "id": "1f094c2d",
   "metadata": {},
   "outputs": [
    {
     "data": {
      "text/html": [
       "<div>\n",
       "<style scoped>\n",
       "    .dataframe tbody tr th:only-of-type {\n",
       "        vertical-align: middle;\n",
       "    }\n",
       "\n",
       "    .dataframe tbody tr th {\n",
       "        vertical-align: top;\n",
       "    }\n",
       "\n",
       "    .dataframe thead th {\n",
       "        text-align: right;\n",
       "    }\n",
       "</style>\n",
       "<table border=\"1\" class=\"dataframe\">\n",
       "  <thead>\n",
       "    <tr style=\"text-align: right;\">\n",
       "      <th></th>\n",
       "      <th>totdigit</th>\n",
       "      <th>total</th>\n",
       "      <th>percent</th>\n",
       "    </tr>\n",
       "    <tr>\n",
       "      <th>last_Vote1</th>\n",
       "      <th></th>\n",
       "      <th></th>\n",
       "      <th></th>\n",
       "    </tr>\n",
       "  </thead>\n",
       "  <tbody>\n",
       "    <tr>\n",
       "      <th>0</th>\n",
       "      <td>8712</td>\n",
       "      <td>85002</td>\n",
       "      <td>0.102492</td>\n",
       "    </tr>\n",
       "    <tr>\n",
       "      <th>1</th>\n",
       "      <td>8367</td>\n",
       "      <td>85002</td>\n",
       "      <td>0.098433</td>\n",
       "    </tr>\n",
       "    <tr>\n",
       "      <th>2</th>\n",
       "      <td>8423</td>\n",
       "      <td>85002</td>\n",
       "      <td>0.099092</td>\n",
       "    </tr>\n",
       "    <tr>\n",
       "      <th>3</th>\n",
       "      <td>8473</td>\n",
       "      <td>85002</td>\n",
       "      <td>0.099680</td>\n",
       "    </tr>\n",
       "    <tr>\n",
       "      <th>4</th>\n",
       "      <td>8528</td>\n",
       "      <td>85002</td>\n",
       "      <td>0.100327</td>\n",
       "    </tr>\n",
       "    <tr>\n",
       "      <th>5</th>\n",
       "      <td>8593</td>\n",
       "      <td>85002</td>\n",
       "      <td>0.101092</td>\n",
       "    </tr>\n",
       "    <tr>\n",
       "      <th>6</th>\n",
       "      <td>8465</td>\n",
       "      <td>85002</td>\n",
       "      <td>0.099586</td>\n",
       "    </tr>\n",
       "    <tr>\n",
       "      <th>7</th>\n",
       "      <td>8571</td>\n",
       "      <td>85002</td>\n",
       "      <td>0.100833</td>\n",
       "    </tr>\n",
       "    <tr>\n",
       "      <th>8</th>\n",
       "      <td>8349</td>\n",
       "      <td>85002</td>\n",
       "      <td>0.098221</td>\n",
       "    </tr>\n",
       "    <tr>\n",
       "      <th>9</th>\n",
       "      <td>8521</td>\n",
       "      <td>85002</td>\n",
       "      <td>0.100245</td>\n",
       "    </tr>\n",
       "  </tbody>\n",
       "</table>\n",
       "</div>"
      ],
      "text/plain": [
       "            totdigit  total   percent\n",
       "last_Vote1                           \n",
       "0               8712  85002  0.102492\n",
       "1               8367  85002  0.098433\n",
       "2               8423  85002  0.099092\n",
       "3               8473  85002  0.099680\n",
       "4               8528  85002  0.100327\n",
       "5               8593  85002  0.101092\n",
       "6               8465  85002  0.099586\n",
       "7               8571  85002  0.100833\n",
       "8               8349  85002  0.098221\n",
       "9               8521  85002  0.100245"
      ]
     },
     "execution_count": 28,
     "metadata": {},
     "output_type": "execute_result"
    }
   ],
   "source": [
    "tv1"
   ]
  },
  {
   "cell_type": "code",
   "execution_count": 29,
   "id": "31f1d53a",
   "metadata": {},
   "outputs": [],
   "source": [
    "## Calculating the mean\n",
    "meantv1=tv1['percent'].mean()"
   ]
  },
  {
   "cell_type": "code",
   "execution_count": 30,
   "id": "a606dc41",
   "metadata": {},
   "outputs": [
    {
     "data": {
      "text/plain": [
       "0.1"
      ]
     },
     "execution_count": 30,
     "metadata": {},
     "output_type": "execute_result"
    }
   ],
   "source": [
    "meantv1"
   ]
  },
  {
   "cell_type": "code",
   "execution_count": 31,
   "id": "f7c6eca2",
   "metadata": {},
   "outputs": [],
   "source": [
    "## calculating the standard deviation\n",
    "std_tv1=tv1['percent'].std()"
   ]
  },
  {
   "cell_type": "code",
   "execution_count": 32,
   "id": "a075ddff",
   "metadata": {},
   "outputs": [
    {
     "data": {
      "text/plain": [
       "0.0012901096992837292"
      ]
     },
     "execution_count": 32,
     "metadata": {},
     "output_type": "execute_result"
    }
   ],
   "source": [
    "std_tv1"
   ]
  },
  {
   "cell_type": "code",
   "execution_count": 33,
   "id": "ba9b9552",
   "metadata": {},
   "outputs": [],
   "source": [
    "#Z score at the 99% level \n",
    "Z=2.5758"
   ]
  },
  {
   "cell_type": "code",
   "execution_count": 34,
   "id": "f96cb2e5",
   "metadata": {},
   "outputs": [],
   "source": [
    "## Square root of 10\n",
    "sqrt=np.sqrt(10)"
   ]
  },
  {
   "cell_type": "code",
   "execution_count": 35,
   "id": "2de7ad48",
   "metadata": {},
   "outputs": [],
   "source": [
    "### Calculating positive CI\n",
    "citv1_pos=meantv1+(Z*std_tv1)/sqrt"
   ]
  },
  {
   "cell_type": "code",
   "execution_count": 36,
   "id": "3a2918ff",
   "metadata": {},
   "outputs": [
    {
     "data": {
      "text/plain": [
       "0.10105084528321846"
      ]
     },
     "execution_count": 36,
     "metadata": {},
     "output_type": "execute_result"
    }
   ],
   "source": [
    "citv1_pos"
   ]
  },
  {
   "cell_type": "code",
   "execution_count": 37,
   "id": "34d34166",
   "metadata": {},
   "outputs": [],
   "source": [
    "### Calculating negative CI\n",
    "citv1_neg=meantv1-(Z*std_tv1)/sqrt"
   ]
  },
  {
   "cell_type": "code",
   "execution_count": 38,
   "id": "ccfff50a",
   "metadata": {},
   "outputs": [
    {
     "data": {
      "text/plain": [
       "0.09894915471678155"
      ]
     },
     "execution_count": 38,
     "metadata": {},
     "output_type": "execute_result"
    }
   ],
   "source": [
    "citv1_neg"
   ]
  },
  {
   "cell_type": "code",
   "execution_count": 39,
   "id": "6ec7a632",
   "metadata": {},
   "outputs": [],
   "source": [
    "x=[0,1,2,3,4,5,6,7,8,9]"
   ]
  },
  {
   "cell_type": "code",
   "execution_count": 40,
   "id": "59b9ed3c",
   "metadata": {},
   "outputs": [
    {
     "data": {
      "image/png": "[encoded data removed]",
      "text/plain": [
       "<Figure size 720x576 with 1 Axes>"
      ]
     },
     "metadata": {
      "needs_background": "light"
     },
     "output_type": "display_data"
    }
   ],
   "source": [
    "plt.figure(figsize=(10,8))\n",
    "plt.scatter(x, tv1['percent'])\n",
    "plt.xlabel('Last digit of First Round Total Votes per Polling place ')\n",
    "plt.ylabel('Percent')\n",
    "plt.title('Benford´s Law Applied to Last Digit of First Round Total Votes')\n",
    "plt.axhline(meantv1, 0,1, color=\"orange\", linestyle=\"--\", label='mean')\n",
    "plt.axhline(citv1_pos, 0,1, color=\"black\", linestyle=\"-\", label='ci_pos')\n",
    "plt.axhline(citv1_neg, 0,1, color=\"black\", linestyle=\"-\", label='ci_neg')\n",
    "plt.yticks(np.arange(0.09, 0.11, step=0.0025))\n",
    "plt.xticks(np.arange(0, 10, step=1))\n",
    "plt.show()"
   ]
  },
  {
   "cell_type": "markdown",
   "id": "5b1bbd4e",
   "metadata": {},
   "source": [
    "We see that 0 is slightly overrepresented, but the value is very close to 10%; 1 and 8 are slightly misrepresented, but on the whole the digits are very close to 10% each. "
   ]
  },
  {
   "cell_type": "markdown",
   "id": "a7fa2dde",
   "metadata": {},
   "source": [
    "#### 2.2 Second round"
   ]
  },
  {
   "cell_type": "code",
   "execution_count": 41,
   "id": "99f0d70a",
   "metadata": {},
   "outputs": [
    {
     "data": {
      "text/plain": [
       "last_Vote2\n",
       "0    8737\n",
       "1    8468\n",
       "2    8785\n",
       "3    8588\n",
       "4    8605\n",
       "5    8567\n",
       "6    8658\n",
       "7    8661\n",
       "8    8712\n",
       "9    8474\n",
       "Name: last_Vote2, dtype: int64"
      ]
     },
     "execution_count": 41,
     "metadata": {},
     "output_type": "execute_result"
    }
   ],
   "source": [
    "## Calculating the digit count for vote 2n round\n",
    "dfsec.groupby('last_Vote2')['last_Vote2'].count()"
   ]
  },
  {
   "cell_type": "markdown",
   "id": "dfeb978b",
   "metadata": {},
   "source": [
    "Let's create a confidence intervals to plot along in the graph. Since we know the population standard deviation we will use a Z score. It's a population because it's the universal set of all valid votes for the second round election. "
   ]
  },
  {
   "cell_type": "code",
   "execution_count": 42,
   "id": "e64360ee",
   "metadata": {},
   "outputs": [],
   "source": [
    "## Creating a dataframe for better visualization \n",
    "tv2=pd.DataFrame(data=dfsec.groupby('last_Vote2')['last_Vote2'].count())"
   ]
  },
  {
   "cell_type": "code",
   "execution_count": 43,
   "id": "5c67f828",
   "metadata": {},
   "outputs": [],
   "source": [
    "##Renaming second column (both columns have the same name when coming out from the groupby)\n",
    "tv2.rename(columns={'last_Vote2' : 'totdigit'}, inplace=True)"
   ]
  },
  {
   "cell_type": "code",
   "execution_count": 44,
   "id": "849f5655",
   "metadata": {},
   "outputs": [],
   "source": [
    "tv2['total']=86255"
   ]
  },
  {
   "cell_type": "code",
   "execution_count": 45,
   "id": "3fc2a778",
   "metadata": {},
   "outputs": [],
   "source": [
    "tv2['percent']=tv2['totdigit']/tv2['total']"
   ]
  },
  {
   "cell_type": "code",
   "execution_count": 46,
   "id": "2d606f9c",
   "metadata": {},
   "outputs": [
    {
     "data": {
      "text/html": [
       "<div>\n",
       "<style scoped>\n",
       "    .dataframe tbody tr th:only-of-type {\n",
       "        vertical-align: middle;\n",
       "    }\n",
       "\n",
       "    .dataframe tbody tr th {\n",
       "        vertical-align: top;\n",
       "    }\n",
       "\n",
       "    .dataframe thead th {\n",
       "        text-align: right;\n",
       "    }\n",
       "</style>\n",
       "<table border=\"1\" class=\"dataframe\">\n",
       "  <thead>\n",
       "    <tr style=\"text-align: right;\">\n",
       "      <th></th>\n",
       "      <th>totdigit</th>\n",
       "      <th>total</th>\n",
       "      <th>percent</th>\n",
       "    </tr>\n",
       "    <tr>\n",
       "      <th>last_Vote2</th>\n",
       "      <th></th>\n",
       "      <th></th>\n",
       "      <th></th>\n",
       "    </tr>\n",
       "  </thead>\n",
       "  <tbody>\n",
       "    <tr>\n",
       "      <th>0</th>\n",
       "      <td>8737</td>\n",
       "      <td>86255</td>\n",
       "      <td>0.101293</td>\n",
       "    </tr>\n",
       "    <tr>\n",
       "      <th>1</th>\n",
       "      <td>8468</td>\n",
       "      <td>86255</td>\n",
       "      <td>0.098174</td>\n",
       "    </tr>\n",
       "    <tr>\n",
       "      <th>2</th>\n",
       "      <td>8785</td>\n",
       "      <td>86255</td>\n",
       "      <td>0.101849</td>\n",
       "    </tr>\n",
       "    <tr>\n",
       "      <th>3</th>\n",
       "      <td>8588</td>\n",
       "      <td>86255</td>\n",
       "      <td>0.099565</td>\n",
       "    </tr>\n",
       "    <tr>\n",
       "      <th>4</th>\n",
       "      <td>8605</td>\n",
       "      <td>86255</td>\n",
       "      <td>0.099762</td>\n",
       "    </tr>\n",
       "    <tr>\n",
       "      <th>5</th>\n",
       "      <td>8567</td>\n",
       "      <td>86255</td>\n",
       "      <td>0.099322</td>\n",
       "    </tr>\n",
       "    <tr>\n",
       "      <th>6</th>\n",
       "      <td>8658</td>\n",
       "      <td>86255</td>\n",
       "      <td>0.100377</td>\n",
       "    </tr>\n",
       "    <tr>\n",
       "      <th>7</th>\n",
       "      <td>8661</td>\n",
       "      <td>86255</td>\n",
       "      <td>0.100412</td>\n",
       "    </tr>\n",
       "    <tr>\n",
       "      <th>8</th>\n",
       "      <td>8712</td>\n",
       "      <td>86255</td>\n",
       "      <td>0.101003</td>\n",
       "    </tr>\n",
       "    <tr>\n",
       "      <th>9</th>\n",
       "      <td>8474</td>\n",
       "      <td>86255</td>\n",
       "      <td>0.098244</td>\n",
       "    </tr>\n",
       "  </tbody>\n",
       "</table>\n",
       "</div>"
      ],
      "text/plain": [
       "            totdigit  total   percent\n",
       "last_Vote2                           \n",
       "0               8737  86255  0.101293\n",
       "1               8468  86255  0.098174\n",
       "2               8785  86255  0.101849\n",
       "3               8588  86255  0.099565\n",
       "4               8605  86255  0.099762\n",
       "5               8567  86255  0.099322\n",
       "6               8658  86255  0.100377\n",
       "7               8661  86255  0.100412\n",
       "8               8712  86255  0.101003\n",
       "9               8474  86255  0.098244"
      ]
     },
     "execution_count": 46,
     "metadata": {},
     "output_type": "execute_result"
    }
   ],
   "source": [
    "tv2"
   ]
  },
  {
   "cell_type": "code",
   "execution_count": 47,
   "id": "c3f9d92a",
   "metadata": {},
   "outputs": [],
   "source": [
    "## Calculating the mean\n",
    "meantv2=tv2['percent'].mean()"
   ]
  },
  {
   "cell_type": "code",
   "execution_count": 48,
   "id": "1eda003e",
   "metadata": {},
   "outputs": [],
   "source": [
    "## calculating the standard deviation\n",
    "std_tv2=tv2['percent'].std()"
   ]
  },
  {
   "cell_type": "code",
   "execution_count": 49,
   "id": "bac6c67e",
   "metadata": {},
   "outputs": [],
   "source": [
    "### Calculating positive CI\n",
    "citv2_pos=meantv2+(Z*std_tv2)/sqrt"
   ]
  },
  {
   "cell_type": "code",
   "execution_count": 50,
   "id": "44c93d9e",
   "metadata": {},
   "outputs": [
    {
     "data": {
      "text/plain": [
       "0.10099879181073931"
      ]
     },
     "execution_count": 50,
     "metadata": {},
     "output_type": "execute_result"
    }
   ],
   "source": [
    "citv2_pos"
   ]
  },
  {
   "cell_type": "code",
   "execution_count": 51,
   "id": "38ee62bc",
   "metadata": {},
   "outputs": [],
   "source": [
    "### Calculating negative CI\n",
    "citv2_neg=meantv2-(Z*std_tv2)/sqrt"
   ]
  },
  {
   "cell_type": "code",
   "execution_count": 52,
   "id": "b8f8323d",
   "metadata": {},
   "outputs": [
    {
     "data": {
      "text/plain": [
       "0.09900120818926067"
      ]
     },
     "execution_count": 52,
     "metadata": {},
     "output_type": "execute_result"
    }
   ],
   "source": [
    "citv2_neg"
   ]
  },
  {
   "cell_type": "code",
   "execution_count": 53,
   "id": "cbfa49be",
   "metadata": {},
   "outputs": [
    {
     "data": {
      "image/png": "[encoded data removed]",
      "text/plain": [
       "<Figure size 720x576 with 1 Axes>"
      ]
     },
     "metadata": {
      "needs_background": "light"
     },
     "output_type": "display_data"
    }
   ],
   "source": [
    "plt.figure(figsize=(10,8))\n",
    "plt.scatter(x, tv2['percent'])\n",
    "plt.xlabel('Last digit of Second Round Total Votes per Polling place ')\n",
    "plt.ylabel('Percent')\n",
    "plt.title('Benford´s Law Applied to Last Digit of Second Round Total Votes')\n",
    "plt.axhline(meantv2, 0,1, color=\"orange\", linestyle=\"--\", label='mean')\n",
    "plt.axhline(citv2_pos, 0,1, color=\"black\", linestyle=\"-\", label='ci_pos')\n",
    "plt.axhline(citv2_neg, 0,1, color=\"black\", linestyle=\"-\", label='ci_neg')\n",
    "plt.yticks(np.arange(0.09, 0.11, step=0.0025))\n",
    "plt.xticks(np.arange(0, 10, step=1))\n",
    "plt.show()"
   ]
  },
  {
   "cell_type": "markdown",
   "id": "9c28b1a8",
   "metadata": {},
   "source": [
    "Digits 1 and 9 are slightly underreprestented, whereas 0 and 2 is slightly overrepresented. However, in all cases they are very close to 10. There does not seem to be an anomaly with regarding to digits being over repeated do to manual input at a large scale.  "
   ]
  },
  {
   "cell_type": "markdown",
   "id": "3462ad27",
   "metadata": {},
   "source": [
    "### 3. Applying Benford's law to Fujimori vote"
   ]
  },
  {
   "cell_type": "markdown",
   "id": "309fdf83",
   "metadata": {},
   "source": [
    "#### 3.1 First round"
   ]
  },
  {
   "cell_type": "code",
   "execution_count": 54,
   "id": "f44bb75a",
   "metadata": {
    "scrolled": true
   },
   "outputs": [
    {
     "data": {
      "text/plain": [
       "last_Fuji1\n",
       "0    8726\n",
       "1    8436\n",
       "2    8858\n",
       "3    8905\n",
       "4    8774\n",
       "5    8855\n",
       "6    8421\n",
       "7    8207\n",
       "8    8101\n",
       "9    7719\n",
       "Name: last_Fuji1, dtype: int64"
      ]
     },
     "execution_count": 54,
     "metadata": {},
     "output_type": "execute_result"
    }
   ],
   "source": [
    "## Calculating the digit count for vote 1st round\n",
    "dffir.groupby('last_Fuji1')['last_Fuji1'].count()"
   ]
  },
  {
   "cell_type": "code",
   "execution_count": 55,
   "id": "858a715a",
   "metadata": {},
   "outputs": [],
   "source": [
    "## Creating a dataframe for better visualization \n",
    "fuji1=pd.DataFrame(data=dffir.groupby('last_Fuji1')['last_Fuji1'].count())"
   ]
  },
  {
   "cell_type": "code",
   "execution_count": 56,
   "id": "c06cc3ca",
   "metadata": {},
   "outputs": [],
   "source": [
    "##Renaming second column (both columns have the same name when coming out from the groupby)\n",
    "fuji1.rename(columns={'last_Fuji1' : 'totdigit'}, inplace=True)"
   ]
  },
  {
   "cell_type": "code",
   "execution_count": 57,
   "id": "ab9a903c",
   "metadata": {},
   "outputs": [],
   "source": [
    "fuji1['total']=85002"
   ]
  },
  {
   "cell_type": "code",
   "execution_count": 58,
   "id": "03385892",
   "metadata": {},
   "outputs": [],
   "source": [
    "fuji1['percent']=fuji1['totdigit']/fuji1['total']"
   ]
  },
  {
   "cell_type": "code",
   "execution_count": 59,
   "id": "ee50aee2",
   "metadata": {},
   "outputs": [
    {
     "data": {
      "text/html": [
       "<div>\n",
       "<style scoped>\n",
       "    .dataframe tbody tr th:only-of-type {\n",
       "        vertical-align: middle;\n",
       "    }\n",
       "\n",
       "    .dataframe tbody tr th {\n",
       "        vertical-align: top;\n",
       "    }\n",
       "\n",
       "    .dataframe thead th {\n",
       "        text-align: right;\n",
       "    }\n",
       "</style>\n",
       "<table border=\"1\" class=\"dataframe\">\n",
       "  <thead>\n",
       "    <tr style=\"text-align: right;\">\n",
       "      <th></th>\n",
       "      <th>totdigit</th>\n",
       "      <th>total</th>\n",
       "      <th>percent</th>\n",
       "    </tr>\n",
       "    <tr>\n",
       "      <th>last_Fuji1</th>\n",
       "      <th></th>\n",
       "      <th></th>\n",
       "      <th></th>\n",
       "    </tr>\n",
       "  </thead>\n",
       "  <tbody>\n",
       "    <tr>\n",
       "      <th>0</th>\n",
       "      <td>8726</td>\n",
       "      <td>85002</td>\n",
       "      <td>0.102656</td>\n",
       "    </tr>\n",
       "    <tr>\n",
       "      <th>1</th>\n",
       "      <td>8436</td>\n",
       "      <td>85002</td>\n",
       "      <td>0.099245</td>\n",
       "    </tr>\n",
       "    <tr>\n",
       "      <th>2</th>\n",
       "      <td>8858</td>\n",
       "      <td>85002</td>\n",
       "      <td>0.104209</td>\n",
       "    </tr>\n",
       "    <tr>\n",
       "      <th>3</th>\n",
       "      <td>8905</td>\n",
       "      <td>85002</td>\n",
       "      <td>0.104762</td>\n",
       "    </tr>\n",
       "    <tr>\n",
       "      <th>4</th>\n",
       "      <td>8774</td>\n",
       "      <td>85002</td>\n",
       "      <td>0.103221</td>\n",
       "    </tr>\n",
       "    <tr>\n",
       "      <th>5</th>\n",
       "      <td>8855</td>\n",
       "      <td>85002</td>\n",
       "      <td>0.104174</td>\n",
       "    </tr>\n",
       "    <tr>\n",
       "      <th>6</th>\n",
       "      <td>8421</td>\n",
       "      <td>85002</td>\n",
       "      <td>0.099068</td>\n",
       "    </tr>\n",
       "    <tr>\n",
       "      <th>7</th>\n",
       "      <td>8207</td>\n",
       "      <td>85002</td>\n",
       "      <td>0.096551</td>\n",
       "    </tr>\n",
       "    <tr>\n",
       "      <th>8</th>\n",
       "      <td>8101</td>\n",
       "      <td>85002</td>\n",
       "      <td>0.095304</td>\n",
       "    </tr>\n",
       "    <tr>\n",
       "      <th>9</th>\n",
       "      <td>7719</td>\n",
       "      <td>85002</td>\n",
       "      <td>0.090810</td>\n",
       "    </tr>\n",
       "  </tbody>\n",
       "</table>\n",
       "</div>"
      ],
      "text/plain": [
       "            totdigit  total   percent\n",
       "last_Fuji1                           \n",
       "0               8726  85002  0.102656\n",
       "1               8436  85002  0.099245\n",
       "2               8858  85002  0.104209\n",
       "3               8905  85002  0.104762\n",
       "4               8774  85002  0.103221\n",
       "5               8855  85002  0.104174\n",
       "6               8421  85002  0.099068\n",
       "7               8207  85002  0.096551\n",
       "8               8101  85002  0.095304\n",
       "9               7719  85002  0.090810"
      ]
     },
     "execution_count": 59,
     "metadata": {},
     "output_type": "execute_result"
    }
   ],
   "source": [
    "fuji1"
   ]
  },
  {
   "cell_type": "markdown",
   "id": "50413d0b",
   "metadata": {},
   "source": [
    "We know that the mean is 0.1. "
   ]
  },
  {
   "cell_type": "code",
   "execution_count": 60,
   "id": "9ff533f3",
   "metadata": {},
   "outputs": [],
   "source": [
    "## calculating the standard deviation\n",
    "std_f1=fuji1['percent'].std()"
   ]
  },
  {
   "cell_type": "code",
   "execution_count": 61,
   "id": "f451d305",
   "metadata": {},
   "outputs": [],
   "source": [
    "### Calculating positive CI\n",
    "cif1_pos=0.1+(Z*std_f1)/sqrt"
   ]
  },
  {
   "cell_type": "code",
   "execution_count": 62,
   "id": "43636d7c",
   "metadata": {},
   "outputs": [
    {
     "data": {
      "text/plain": [
       "0.10379251392996562"
      ]
     },
     "execution_count": 62,
     "metadata": {},
     "output_type": "execute_result"
    }
   ],
   "source": [
    "cif1_pos"
   ]
  },
  {
   "cell_type": "code",
   "execution_count": 63,
   "id": "4d338836",
   "metadata": {},
   "outputs": [],
   "source": [
    "### Calculating negative CI\n",
    "cif1_neg=0.1-(Z*std_f1)/sqrt"
   ]
  },
  {
   "cell_type": "code",
   "execution_count": 64,
   "id": "7bb6c1e0",
   "metadata": {},
   "outputs": [
    {
     "data": {
      "text/plain": [
       "0.09620748607003439"
      ]
     },
     "execution_count": 64,
     "metadata": {},
     "output_type": "execute_result"
    }
   ],
   "source": [
    "cif1_neg"
   ]
  },
  {
   "cell_type": "code",
   "execution_count": 65,
   "id": "6afef103",
   "metadata": {},
   "outputs": [
    {
     "data": {
      "image/png": "[encoded data removed]",
      "text/plain": [
       "<Figure size 720x576 with 1 Axes>"
      ]
     },
     "metadata": {
      "needs_background": "light"
     },
     "output_type": "display_data"
    }
   ],
   "source": [
    "plt.figure(figsize=(10,8))\n",
    "plt.scatter(x, fuji1['percent'])\n",
    "plt.xlabel('Last digit of First Round Total Votes per Polling Place - Fujimori ')\n",
    "plt.ylabel('Percent')\n",
    "plt.title('Benford´s Law Applied to Last Digit of First Round Total Votes')\n",
    "plt.axhline(meantv2, 0,1, color=\"orange\", linestyle=\"--\", label='mean')\n",
    "plt.axhline(citv2_pos, 0,1, color=\"black\", linestyle=\"-\", label='ci_pos')\n",
    "plt.axhline(citv2_neg, 0,1, color=\"black\", linestyle=\"-\", label='ci_neg')\n",
    "plt.yticks(np.arange(0.09, 0.11, step=0.0025))\n",
    "plt.xticks(np.arange(0, 10, step=1))\n",
    "plt.show()"
   ]
  },
  {
   "cell_type": "markdown",
   "id": "c35bb0a4",
   "metadata": {},
   "source": [
    "In this case, we are seeing quite a bit of variability; 8 and 9 are underrepresented, while 0, 2, 3, 4 and 5 are overrespresented. Let's remember that Fujimori only got 11% of total votes in the first round."
   ]
  },
  {
   "cell_type": "markdown",
   "id": "ef81daaf",
   "metadata": {},
   "source": [
    "#### 3.2 Second round"
   ]
  },
  {
   "cell_type": "code",
   "execution_count": 66,
   "id": "41124a3e",
   "metadata": {},
   "outputs": [
    {
     "data": {
      "text/plain": [
       "last_Fuji2\n",
       "0    8622\n",
       "1    8519\n",
       "2    8742\n",
       "3    8601\n",
       "4    8660\n",
       "5    8787\n",
       "6    8571\n",
       "7    8591\n",
       "8    8612\n",
       "9    8550\n",
       "Name: last_Fuji2, dtype: int64"
      ]
     },
     "execution_count": 66,
     "metadata": {},
     "output_type": "execute_result"
    }
   ],
   "source": [
    "## Calculating the digit count for vote 2n round\n",
    "dfsec.groupby('last_Fuji2')['last_Fuji2'].count()"
   ]
  },
  {
   "cell_type": "code",
   "execution_count": 67,
   "id": "c0b9cede",
   "metadata": {},
   "outputs": [],
   "source": [
    "## Creating a dataframe for better visualization \n",
    "fuji2=pd.DataFrame(data=dfsec.groupby('last_Fuji2')['last_Fuji2'].count())"
   ]
  },
  {
   "cell_type": "code",
   "execution_count": 68,
   "id": "6c3d1ccc",
   "metadata": {},
   "outputs": [],
   "source": [
    "##Renaming second column (both columns have the same name when coming out from the groupby)\n",
    "fuji2.rename(columns={'last_Fuji2' : 'totdigit'}, inplace=True)"
   ]
  },
  {
   "cell_type": "code",
   "execution_count": 69,
   "id": "2e4bd33e",
   "metadata": {},
   "outputs": [],
   "source": [
    "fuji2['total']=86255"
   ]
  },
  {
   "cell_type": "code",
   "execution_count": 70,
   "id": "fac54ffc",
   "metadata": {},
   "outputs": [],
   "source": [
    "fuji2['percent']=fuji2['totdigit']/fuji2['total']"
   ]
  },
  {
   "cell_type": "code",
   "execution_count": 71,
   "id": "35980e39",
   "metadata": {},
   "outputs": [
    {
     "data": {
      "text/html": [
       "<div>\n",
       "<style scoped>\n",
       "    .dataframe tbody tr th:only-of-type {\n",
       "        vertical-align: middle;\n",
       "    }\n",
       "\n",
       "    .dataframe tbody tr th {\n",
       "        vertical-align: top;\n",
       "    }\n",
       "\n",
       "    .dataframe thead th {\n",
       "        text-align: right;\n",
       "    }\n",
       "</style>\n",
       "<table border=\"1\" class=\"dataframe\">\n",
       "  <thead>\n",
       "    <tr style=\"text-align: right;\">\n",
       "      <th></th>\n",
       "      <th>totdigit</th>\n",
       "      <th>total</th>\n",
       "      <th>percent</th>\n",
       "    </tr>\n",
       "    <tr>\n",
       "      <th>last_Fuji2</th>\n",
       "      <th></th>\n",
       "      <th></th>\n",
       "      <th></th>\n",
       "    </tr>\n",
       "  </thead>\n",
       "  <tbody>\n",
       "    <tr>\n",
       "      <th>0</th>\n",
       "      <td>8622</td>\n",
       "      <td>86255</td>\n",
       "      <td>0.099959</td>\n",
       "    </tr>\n",
       "    <tr>\n",
       "      <th>1</th>\n",
       "      <td>8519</td>\n",
       "      <td>86255</td>\n",
       "      <td>0.098765</td>\n",
       "    </tr>\n",
       "    <tr>\n",
       "      <th>2</th>\n",
       "      <td>8742</td>\n",
       "      <td>86255</td>\n",
       "      <td>0.101351</td>\n",
       "    </tr>\n",
       "    <tr>\n",
       "      <th>3</th>\n",
       "      <td>8601</td>\n",
       "      <td>86255</td>\n",
       "      <td>0.099716</td>\n",
       "    </tr>\n",
       "    <tr>\n",
       "      <th>4</th>\n",
       "      <td>8660</td>\n",
       "      <td>86255</td>\n",
       "      <td>0.100400</td>\n",
       "    </tr>\n",
       "    <tr>\n",
       "      <th>5</th>\n",
       "      <td>8787</td>\n",
       "      <td>86255</td>\n",
       "      <td>0.101872</td>\n",
       "    </tr>\n",
       "    <tr>\n",
       "      <th>6</th>\n",
       "      <td>8571</td>\n",
       "      <td>86255</td>\n",
       "      <td>0.099368</td>\n",
       "    </tr>\n",
       "    <tr>\n",
       "      <th>7</th>\n",
       "      <td>8591</td>\n",
       "      <td>86255</td>\n",
       "      <td>0.099600</td>\n",
       "    </tr>\n",
       "    <tr>\n",
       "      <th>8</th>\n",
       "      <td>8612</td>\n",
       "      <td>86255</td>\n",
       "      <td>0.099843</td>\n",
       "    </tr>\n",
       "    <tr>\n",
       "      <th>9</th>\n",
       "      <td>8550</td>\n",
       "      <td>86255</td>\n",
       "      <td>0.099125</td>\n",
       "    </tr>\n",
       "  </tbody>\n",
       "</table>\n",
       "</div>"
      ],
      "text/plain": [
       "            totdigit  total   percent\n",
       "last_Fuji2                           \n",
       "0               8622  86255  0.099959\n",
       "1               8519  86255  0.098765\n",
       "2               8742  86255  0.101351\n",
       "3               8601  86255  0.099716\n",
       "4               8660  86255  0.100400\n",
       "5               8787  86255  0.101872\n",
       "6               8571  86255  0.099368\n",
       "7               8591  86255  0.099600\n",
       "8               8612  86255  0.099843\n",
       "9               8550  86255  0.099125"
      ]
     },
     "execution_count": 71,
     "metadata": {},
     "output_type": "execute_result"
    }
   ],
   "source": [
    "fuji2"
   ]
  },
  {
   "cell_type": "code",
   "execution_count": 72,
   "id": "24fc8e89",
   "metadata": {},
   "outputs": [],
   "source": [
    "## calculating the standard deviation\n",
    "std_fuji2=fuji2['percent'].std()"
   ]
  },
  {
   "cell_type": "code",
   "execution_count": 73,
   "id": "050a9874",
   "metadata": {},
   "outputs": [],
   "source": [
    "### Calculating positive CI\n",
    "cif2_pos=0.1+(Z*std_fuji2)/sqrt"
   ]
  },
  {
   "cell_type": "code",
   "execution_count": 74,
   "id": "7dad7e0f",
   "metadata": {},
   "outputs": [],
   "source": [
    "### Calculating positive CI\n",
    "cif2_neg=0.1-(Z*std_fuji2)/sqrt"
   ]
  },
  {
   "cell_type": "code",
   "execution_count": 75,
   "id": "9e2cf7d3",
   "metadata": {},
   "outputs": [
    {
     "data": {
      "image/png": "[encoded data removed]",
      "text/plain": [
       "<Figure size 720x576 with 1 Axes>"
      ]
     },
     "metadata": {
      "needs_background": "light"
     },
     "output_type": "display_data"
    }
   ],
   "source": [
    "plt.figure(figsize=(10,8))\n",
    "plt.scatter(x, fuji2['percent'])\n",
    "plt.xlabel('Last digit of Second Round Total Votes per Polling Place - Fujimori ')\n",
    "plt.ylabel('Percent')\n",
    "plt.title('Benford´s Law Applied to Last Digit of Second Round Total Votes')\n",
    "plt.axhline(meantv2, 0,1, color=\"orange\", linestyle=\"--\", label='mean')\n",
    "plt.axhline(citv2_pos, 0,1, color=\"black\", linestyle=\"-\", label='ci_pos')\n",
    "plt.axhline(citv2_neg, 0,1, color=\"black\", linestyle=\"-\", label='ci_neg')\n",
    "plt.yticks(np.arange(0.09, 0.11, step=0.0025))\n",
    "plt.xticks(np.arange(0, 10, step=1))\n",
    "plt.show()"
   ]
  },
  {
   "cell_type": "markdown",
   "id": "e2eb2f7a",
   "metadata": {},
   "source": [
    "All digits are very close or inside the confidence interval; 5 is slightly overrepresented and 1 is slightly underpresented. "
   ]
  },
  {
   "cell_type": "markdown",
   "id": "cf58cf4a",
   "metadata": {},
   "source": [
    "### 4. Applying Benford's law to Castillo vote"
   ]
  },
  {
   "cell_type": "markdown",
   "id": "65cb8c7e",
   "metadata": {},
   "source": [
    "#### 4.1 First round"
   ]
  },
  {
   "cell_type": "code",
   "execution_count": 76,
   "id": "eee00e80",
   "metadata": {},
   "outputs": [
    {
     "data": {
      "text/plain": [
       "last_Cast1\n",
       "0    9131\n",
       "1    8934\n",
       "2    8876\n",
       "3    8947\n",
       "4    8627\n",
       "5    8645\n",
       "6    8436\n",
       "7    8054\n",
       "8    7790\n",
       "9    7562\n",
       "Name: last_Cast1, dtype: int64"
      ]
     },
     "execution_count": 76,
     "metadata": {},
     "output_type": "execute_result"
    }
   ],
   "source": [
    "## Calculating the digit count for vote 1st round\n",
    "dffir.groupby('last_Cast1')['last_Cast1'].count()"
   ]
  },
  {
   "cell_type": "code",
   "execution_count": 77,
   "id": "6510f661",
   "metadata": {},
   "outputs": [],
   "source": [
    "## Creating a dataframe for better visualization \n",
    "cast1=pd.DataFrame(data=dffir.groupby('last_Cast1')['last_Cast1'].count())"
   ]
  },
  {
   "cell_type": "code",
   "execution_count": 78,
   "id": "3bc8c358",
   "metadata": {},
   "outputs": [],
   "source": [
    "##Renaming second column (both columns have the same name when coming out from the groupby)\n",
    "cast1.rename(columns={'last_Cast1' : 'totdigit'}, inplace=True)"
   ]
  },
  {
   "cell_type": "code",
   "execution_count": 79,
   "id": "c16828a1",
   "metadata": {},
   "outputs": [],
   "source": [
    "cast1['total']=85002"
   ]
  },
  {
   "cell_type": "code",
   "execution_count": 80,
   "id": "24317333",
   "metadata": {},
   "outputs": [],
   "source": [
    "cast1['percent']=cast1['totdigit']/cast1['total']"
   ]
  },
  {
   "cell_type": "code",
   "execution_count": 81,
   "id": "083fec3c",
   "metadata": {},
   "outputs": [
    {
     "data": {
      "text/html": [
       "<div>\n",
       "<style scoped>\n",
       "    .dataframe tbody tr th:only-of-type {\n",
       "        vertical-align: middle;\n",
       "    }\n",
       "\n",
       "    .dataframe tbody tr th {\n",
       "        vertical-align: top;\n",
       "    }\n",
       "\n",
       "    .dataframe thead th {\n",
       "        text-align: right;\n",
       "    }\n",
       "</style>\n",
       "<table border=\"1\" class=\"dataframe\">\n",
       "  <thead>\n",
       "    <tr style=\"text-align: right;\">\n",
       "      <th></th>\n",
       "      <th>totdigit</th>\n",
       "      <th>total</th>\n",
       "      <th>percent</th>\n",
       "    </tr>\n",
       "    <tr>\n",
       "      <th>last_Cast1</th>\n",
       "      <th></th>\n",
       "      <th></th>\n",
       "      <th></th>\n",
       "    </tr>\n",
       "  </thead>\n",
       "  <tbody>\n",
       "    <tr>\n",
       "      <th>0</th>\n",
       "      <td>9131</td>\n",
       "      <td>85002</td>\n",
       "      <td>0.107421</td>\n",
       "    </tr>\n",
       "    <tr>\n",
       "      <th>1</th>\n",
       "      <td>8934</td>\n",
       "      <td>85002</td>\n",
       "      <td>0.105103</td>\n",
       "    </tr>\n",
       "    <tr>\n",
       "      <th>2</th>\n",
       "      <td>8876</td>\n",
       "      <td>85002</td>\n",
       "      <td>0.104421</td>\n",
       "    </tr>\n",
       "    <tr>\n",
       "      <th>3</th>\n",
       "      <td>8947</td>\n",
       "      <td>85002</td>\n",
       "      <td>0.105256</td>\n",
       "    </tr>\n",
       "    <tr>\n",
       "      <th>4</th>\n",
       "      <td>8627</td>\n",
       "      <td>85002</td>\n",
       "      <td>0.101492</td>\n",
       "    </tr>\n",
       "    <tr>\n",
       "      <th>5</th>\n",
       "      <td>8645</td>\n",
       "      <td>85002</td>\n",
       "      <td>0.101703</td>\n",
       "    </tr>\n",
       "    <tr>\n",
       "      <th>6</th>\n",
       "      <td>8436</td>\n",
       "      <td>85002</td>\n",
       "      <td>0.099245</td>\n",
       "    </tr>\n",
       "    <tr>\n",
       "      <th>7</th>\n",
       "      <td>8054</td>\n",
       "      <td>85002</td>\n",
       "      <td>0.094751</td>\n",
       "    </tr>\n",
       "    <tr>\n",
       "      <th>8</th>\n",
       "      <td>7790</td>\n",
       "      <td>85002</td>\n",
       "      <td>0.091645</td>\n",
       "    </tr>\n",
       "    <tr>\n",
       "      <th>9</th>\n",
       "      <td>7562</td>\n",
       "      <td>85002</td>\n",
       "      <td>0.088963</td>\n",
       "    </tr>\n",
       "  </tbody>\n",
       "</table>\n",
       "</div>"
      ],
      "text/plain": [
       "            totdigit  total   percent\n",
       "last_Cast1                           \n",
       "0               9131  85002  0.107421\n",
       "1               8934  85002  0.105103\n",
       "2               8876  85002  0.104421\n",
       "3               8947  85002  0.105256\n",
       "4               8627  85002  0.101492\n",
       "5               8645  85002  0.101703\n",
       "6               8436  85002  0.099245\n",
       "7               8054  85002  0.094751\n",
       "8               7790  85002  0.091645\n",
       "9               7562  85002  0.088963"
      ]
     },
     "execution_count": 81,
     "metadata": {},
     "output_type": "execute_result"
    }
   ],
   "source": [
    "cast1"
   ]
  },
  {
   "cell_type": "code",
   "execution_count": 82,
   "id": "88e152e8",
   "metadata": {},
   "outputs": [],
   "source": [
    "## calculating the standard deviation\n",
    "std_c1=cast1['percent'].std()"
   ]
  },
  {
   "cell_type": "code",
   "execution_count": 83,
   "id": "931429b7",
   "metadata": {},
   "outputs": [],
   "source": [
    "### Calculating positive CI\n",
    "cic1_pos=0.1+(Z*std_c1)/sqrt"
   ]
  },
  {
   "cell_type": "code",
   "execution_count": 84,
   "id": "ca2c045e",
   "metadata": {},
   "outputs": [],
   "source": [
    "### Calculating positive CI\n",
    "cic1_neg=0.1-(Z*std_c1)/sqrt"
   ]
  },
  {
   "cell_type": "code",
   "execution_count": 85,
   "id": "318ec56c",
   "metadata": {},
   "outputs": [
    {
     "data": {
      "image/png": "[encoded data removed]",
      "text/plain": [
       "<Figure size 720x576 with 1 Axes>"
      ]
     },
     "metadata": {
      "needs_background": "light"
     },
     "output_type": "display_data"
    }
   ],
   "source": [
    "plt.figure(figsize=(10,8))\n",
    "plt.scatter(x, cast1['percent'])\n",
    "plt.xlabel('Last digit of First Round Total Votes per Polling Place - Castillo ')\n",
    "plt.ylabel('Percent')\n",
    "plt.title('Benford´s Law Applied to Last Digit of First Round Total Votes')\n",
    "plt.axhline(0.1, 0,1, color=\"orange\", linestyle=\"--\", label='mean')\n",
    "plt.axhline(cic1_pos, 0,1, color=\"black\", linestyle=\"-\", label='ci_pos')\n",
    "plt.axhline(cic1_neg, 0,1, color=\"black\", linestyle=\"-\", label='ci_neg')\n",
    "plt.yticks(np.arange(0.09, 0.11, step=0.0025))\n",
    "plt.xticks(np.arange(0, 10, step=1))\n",
    "plt.show()"
   ]
  },
  {
   "cell_type": "markdown",
   "id": "4964bbaf",
   "metadata": {},
   "source": [
    "Like in the case of Fujimori in the first round, we see more variability in the digits; 0 is overrepresented where 8 and 9 are underrepresented. "
   ]
  },
  {
   "cell_type": "markdown",
   "id": "9bcd5cf4",
   "metadata": {},
   "source": [
    "#### 4.2 Second round"
   ]
  },
  {
   "cell_type": "code",
   "execution_count": 86,
   "id": "c6759b17",
   "metadata": {},
   "outputs": [
    {
     "data": {
      "text/plain": [
       "last_Cast2\n",
       "0    8787\n",
       "1    8662\n",
       "2    8639\n",
       "3    8558\n",
       "4    8587\n",
       "5    8836\n",
       "6    8535\n",
       "7    8536\n",
       "8    8589\n",
       "9    8526\n",
       "Name: last_Cast2, dtype: int64"
      ]
     },
     "execution_count": 86,
     "metadata": {},
     "output_type": "execute_result"
    }
   ],
   "source": [
    "## Calculating the digit count for vote 2n round\n",
    "dfsec.groupby('last_Cast2')['last_Cast2'].count()"
   ]
  },
  {
   "cell_type": "code",
   "execution_count": 87,
   "id": "cb371e76",
   "metadata": {},
   "outputs": [],
   "source": [
    "## Creating a dataframe for better visualization \n",
    "cast2=pd.DataFrame(data=dfsec.groupby('last_Cast2')['last_Cast2'].count())"
   ]
  },
  {
   "cell_type": "code",
   "execution_count": 88,
   "id": "7f0bde6d",
   "metadata": {},
   "outputs": [],
   "source": [
    "##Renaming second column (both columns have the same name when coming out from the groupby)\n",
    "cast2.rename(columns={'last_Cast2' : 'totdigit'}, inplace=True)"
   ]
  },
  {
   "cell_type": "code",
   "execution_count": 89,
   "id": "bcf16edc",
   "metadata": {},
   "outputs": [],
   "source": [
    "cast2['total']=86255"
   ]
  },
  {
   "cell_type": "code",
   "execution_count": 90,
   "id": "cf7e8f15",
   "metadata": {},
   "outputs": [],
   "source": [
    "cast2['percent']=cast2['totdigit']/cast2['total']"
   ]
  },
  {
   "cell_type": "code",
   "execution_count": 91,
   "id": "6d8ce087",
   "metadata": {},
   "outputs": [
    {
     "data": {
      "text/html": [
       "<div>\n",
       "<style scoped>\n",
       "    .dataframe tbody tr th:only-of-type {\n",
       "        vertical-align: middle;\n",
       "    }\n",
       "\n",
       "    .dataframe tbody tr th {\n",
       "        vertical-align: top;\n",
       "    }\n",
       "\n",
       "    .dataframe thead th {\n",
       "        text-align: right;\n",
       "    }\n",
       "</style>\n",
       "<table border=\"1\" class=\"dataframe\">\n",
       "  <thead>\n",
       "    <tr style=\"text-align: right;\">\n",
       "      <th></th>\n",
       "      <th>totdigit</th>\n",
       "      <th>total</th>\n",
       "      <th>percent</th>\n",
       "    </tr>\n",
       "    <tr>\n",
       "      <th>last_Cast2</th>\n",
       "      <th></th>\n",
       "      <th></th>\n",
       "      <th></th>\n",
       "    </tr>\n",
       "  </thead>\n",
       "  <tbody>\n",
       "    <tr>\n",
       "      <th>0</th>\n",
       "      <td>8787</td>\n",
       "      <td>86255</td>\n",
       "      <td>0.101872</td>\n",
       "    </tr>\n",
       "    <tr>\n",
       "      <th>1</th>\n",
       "      <td>8662</td>\n",
       "      <td>86255</td>\n",
       "      <td>0.100423</td>\n",
       "    </tr>\n",
       "    <tr>\n",
       "      <th>2</th>\n",
       "      <td>8639</td>\n",
       "      <td>86255</td>\n",
       "      <td>0.100157</td>\n",
       "    </tr>\n",
       "    <tr>\n",
       "      <th>3</th>\n",
       "      <td>8558</td>\n",
       "      <td>86255</td>\n",
       "      <td>0.099217</td>\n",
       "    </tr>\n",
       "    <tr>\n",
       "      <th>4</th>\n",
       "      <td>8587</td>\n",
       "      <td>86255</td>\n",
       "      <td>0.099554</td>\n",
       "    </tr>\n",
       "    <tr>\n",
       "      <th>5</th>\n",
       "      <td>8836</td>\n",
       "      <td>86255</td>\n",
       "      <td>0.102440</td>\n",
       "    </tr>\n",
       "    <tr>\n",
       "      <th>6</th>\n",
       "      <td>8535</td>\n",
       "      <td>86255</td>\n",
       "      <td>0.098951</td>\n",
       "    </tr>\n",
       "    <tr>\n",
       "      <th>7</th>\n",
       "      <td>8536</td>\n",
       "      <td>86255</td>\n",
       "      <td>0.098962</td>\n",
       "    </tr>\n",
       "    <tr>\n",
       "      <th>8</th>\n",
       "      <td>8589</td>\n",
       "      <td>86255</td>\n",
       "      <td>0.099577</td>\n",
       "    </tr>\n",
       "    <tr>\n",
       "      <th>9</th>\n",
       "      <td>8526</td>\n",
       "      <td>86255</td>\n",
       "      <td>0.098846</td>\n",
       "    </tr>\n",
       "  </tbody>\n",
       "</table>\n",
       "</div>"
      ],
      "text/plain": [
       "            totdigit  total   percent\n",
       "last_Cast2                           \n",
       "0               8787  86255  0.101872\n",
       "1               8662  86255  0.100423\n",
       "2               8639  86255  0.100157\n",
       "3               8558  86255  0.099217\n",
       "4               8587  86255  0.099554\n",
       "5               8836  86255  0.102440\n",
       "6               8535  86255  0.098951\n",
       "7               8536  86255  0.098962\n",
       "8               8589  86255  0.099577\n",
       "9               8526  86255  0.098846"
      ]
     },
     "execution_count": 91,
     "metadata": {},
     "output_type": "execute_result"
    }
   ],
   "source": [
    "cast2"
   ]
  },
  {
   "cell_type": "code",
   "execution_count": 92,
   "id": "9de35dc9",
   "metadata": {},
   "outputs": [],
   "source": [
    "## calculating the standard deviation\n",
    "std_c2=cast2['percent'].std()"
   ]
  },
  {
   "cell_type": "code",
   "execution_count": 93,
   "id": "cbc61d25",
   "metadata": {},
   "outputs": [],
   "source": [
    "### Calculating positive CI\n",
    "cic2_pos=0.1+(Z*std_c2)/sqrt"
   ]
  },
  {
   "cell_type": "code",
   "execution_count": 94,
   "id": "cc2e6c1e",
   "metadata": {},
   "outputs": [],
   "source": [
    "### Calculating positive CI\n",
    "cic2_neg=0.1-(Z*std_c2)/sqrt"
   ]
  },
  {
   "cell_type": "code",
   "execution_count": 95,
   "id": "db119bfa",
   "metadata": {},
   "outputs": [
    {
     "data": {
      "image/png": "[encoded data removed]",
      "text/plain": [
       "<Figure size 720x576 with 1 Axes>"
      ]
     },
     "metadata": {
      "needs_background": "light"
     },
     "output_type": "display_data"
    }
   ],
   "source": [
    "plt.figure(figsize=(10,8))\n",
    "plt.scatter(x, cast2['percent'])\n",
    "plt.xlabel('Last digit of Second Round Total Votes per Polling Place - Castillo ')\n",
    "plt.ylabel('Percent')\n",
    "plt.title('Benford´s Law Applied to Last Digit of Second Round Total Votes')\n",
    "plt.axhline(0.1, 0,1, color=\"orange\", linestyle=\"--\", label='mean')\n",
    "plt.axhline(cic2_pos, 0,1, color=\"black\", linestyle=\"-\", label='ci_pos')\n",
    "plt.axhline(cic2_neg, 0,1, color=\"black\", linestyle=\"-\", label='ci_neg')\n",
    "plt.yticks(np.arange(0.09, 0.11, step=0.0025))\n",
    "plt.xticks(np.arange(0, 10, step=1))\n",
    "plt.show()"
   ]
  },
  {
   "cell_type": "markdown",
   "id": "5b85ba83",
   "metadata": {},
   "source": [
    "Digits 1 and 5 are slightly over represented, but mostly hover around 10 percent. "
   ]
  },
  {
   "cell_type": "markdown",
   "id": "5044286d",
   "metadata": {},
   "source": [
    "### 5. Conclusion "
   ]
  },
  {
   "cell_type": "code",
   "execution_count": 96,
   "id": "37ae465e",
   "metadata": {},
   "outputs": [
    {
     "data": {
      "image/png": "[encoded data removed]",
      "text/plain": [
       "<Figure size 1080x504 with 2 Axes>"
      ]
     },
     "metadata": {
      "needs_background": "light"
     },
     "output_type": "display_data"
    }
   ],
   "source": [
    "## Putting them side by side\n",
    "plt.subplots(1,2, figsize=(15,7))\n",
    "\n",
    "plt.subplot(1, 2, 1)\n",
    "plt.scatter(x, fuji2['percent'])\n",
    "plt.xlabel('Last digit of Second Round Total')\n",
    "plt.ylabel('Percent')\n",
    "plt.title('Fujimori- 2nd Round')\n",
    "plt.axhline(meantv2, 0,1, color=\"orange\", linestyle=\"--\", label='mean')\n",
    "plt.axhline(citv2_pos, 0,1, color=\"black\", linestyle=\"-\", label='ci_pos')\n",
    "plt.axhline(citv2_neg, 0,1, color=\"black\", linestyle=\"-\", label='ci_neg')\n",
    "plt.yticks(np.arange(0.09, 0.11, step=0.0025))\n",
    "plt.xticks(np.arange(0, 10, step=1))\n",
    "\n",
    "plt.subplot(1, 2, 2)\n",
    "plt.scatter(x, cast2['percent'])\n",
    "plt.xlabel('Last digit of Second Round Total')\n",
    "plt.ylabel('Percent')\n",
    "plt.title('Castillo - 2nd Round')\n",
    "plt.axhline(0.1, 0,1, color=\"orange\", linestyle=\"--\", label='mean')\n",
    "plt.axhline(cic2_pos, 0,1, color=\"black\", linestyle=\"-\", label='ci_pos')\n",
    "plt.axhline(cic2_neg, 0,1, color=\"black\", linestyle=\"-\", label='ci_neg')\n",
    "plt.yticks(np.arange(0.09, 0.11, step=0.0025))\n",
    "plt.xticks(np.arange(0, 10, step=1))\n",
    "\n",
    "plt.show()"
   ]
  },
  {
   "cell_type": "markdown",
   "id": "0ac3037b",
   "metadata": {},
   "source": [
    "- The distribution of digits in the second round is very similar in the case of both candidates. The five is slightly overrepresented in both cases. None of the graphs analyzed in this section are similar to the findings of Beber and Scacco(2012) in Nigeria, where the '0' digit for total votes was higher than 15%. Hence, there is no evidence to suspect foul play for or against either one of the candidates. \n",
    "\n",
    "- Both candidates show a more variable distribution in the first round with 8 and 9 being slightly underrepresented, yet the total votes distribution seems normal.  "
   ]
  },
  {
   "cell_type": "markdown",
   "id": "c7b51c9a",
   "metadata": {},
   "source": [
    "---"
   ]
  }
 ],
 "metadata": {
  "kernelspec": {
   "display_name": "Python 3",
   "language": "python",
   "name": "python3"
  },
  "language_info": {
   "codemirror_mode": {
    "name": "ipython",
    "version": 3
   },
   "file_extension": ".py",
   "mimetype": "text/x-python",
   "name": "python",
   "nbconvert_exporter": "python",
   "pygments_lexer": "ipython3",
   "version": "3.8.8"
  },
  "toc": {
   "base_numbering": "",
   "nav_menu": {},
   "number_sections": false,
   "sideBar": true,
   "skip_h1_title": true,
   "title_cell": "Table of Contents",
   "title_sidebar": "Contents",
   "toc_cell": false,
   "toc_position": {
    "height": "calc(100% - 180px)",
    "left": "10px",
    "top": "150px",
    "width": "307.2px"
   },
   "toc_section_display": true,
   "toc_window_display": true
  },
  "varInspector": {
   "cols": {
    "lenName": 16,
    "lenType": 16,
    "lenVar": 40
   },
   "kernels_config": {
    "python": {
     "delete_cmd_postfix": "",
     "delete_cmd_prefix": "del ",
     "library": "var_list.py",
     "varRefreshCmd": "print(var_dic_list())"
    },
    "r": {
     "delete_cmd_postfix": ") ",
     "delete_cmd_prefix": "rm(",
     "library": "var_list.r",
     "varRefreshCmd": "cat(var_dic_list()) "
    }
   },
   "types_to_exclude": [
    "module",
    "function",
    "builtin_function_or_method",
    "instance",
    "_Feature"
   ],
   "window_display": false
  }
 },
 "nbformat": 4,
 "nbformat_minor": 5
}
