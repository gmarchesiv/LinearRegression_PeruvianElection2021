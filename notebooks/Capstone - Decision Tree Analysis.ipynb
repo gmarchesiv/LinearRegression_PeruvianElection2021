{
 "cells": [
  {
   "cell_type": "markdown",
   "id": "2a75e13c",
   "metadata": {},
   "source": [
    "<div id=\"container\" style=\"position:relative;\">\n",
    "<div style=\"float:left\"><h1> Leveraging Data Science to Promote Transparency in Elections: </h1></div>\n",
    "<div style=\"float:left\"><h2> The case of Peru </h2></div> \n",
    "<div style=\"position:relative; float:right\"><img style=\"height:60px\" src =\"https://drive.google.com/uc?export=view&id=1EnB0x-fdqMp6I5iMoEBBEuxB_s7AmE2k\" />\n",
    "</div>\n",
    "</div>   "
   ]
  },
  {
   "cell_type": "markdown",
   "id": "86807d82",
   "metadata": {},
   "source": [
    "### Notebook 3 of 4 : Decission Tree Analysis \n",
    "**by Giancarlo Marchesi**"
   ]
  },
  {
   "cell_type": "markdown",
   "id": "74faec1b",
   "metadata": {},
   "source": [
    "## Introduction"
   ]
  },
  {
   "cell_type": "markdown",
   "id": "f2f7348e",
   "metadata": {},
   "source": [
    "In this notebook we will use a Decission Tree Regressor to predict the expected vote count for both Fujimori and Castillo per polling station at the national level. We will contrast it to the results of the regression analysis. We will work with the same clean data set used in that analysis."
   ]
  },
  {
   "cell_type": "markdown",
   "id": "0765947f",
   "metadata": {},
   "source": [
    "### 1. Data loading"
   ]
  },
  {
   "cell_type": "code",
   "execution_count": 131,
   "id": "78417532",
   "metadata": {},
   "outputs": [],
   "source": [
    "import numpy as np\n",
    "import pandas as pd\n",
    "import matplotlib.pyplot as plt\n",
    "import seaborn as sns\n",
    "from sklearn.model_selection import train_test_split\n",
    "from sklearn.tree import plot_tree\n",
    "from sklearn.preprocessing import StandardScaler\n",
    "from sklearn.tree import DecisionTreeRegressor\n",
    "from sklearn.linear_model import LinearRegression\n",
    "from sklearn.model_selection import cross_val_score"
   ]
  },
  {
   "cell_type": "code",
   "execution_count": 132,
   "id": "1d2058c7",
   "metadata": {},
   "outputs": [],
   "source": [
    "dfr=pd.read_csv('data/merged_reg.csv')"
   ]
  },
  {
   "cell_type": "code",
   "execution_count": 7,
   "id": "dae0fe18",
   "metadata": {},
   "outputs": [
    {
     "data": {
      "text/html": [
       "<div>\n",
       "<style scoped>\n",
       "    .dataframe tbody tr th:only-of-type {\n",
       "        vertical-align: middle;\n",
       "    }\n",
       "\n",
       "    .dataframe tbody tr th {\n",
       "        vertical-align: top;\n",
       "    }\n",
       "\n",
       "    .dataframe thead th {\n",
       "        text-align: right;\n",
       "    }\n",
       "</style>\n",
       "<table border=\"1\" class=\"dataframe\">\n",
       "  <thead>\n",
       "    <tr style=\"text-align: right;\">\n",
       "      <th></th>\n",
       "      <th>Geocode</th>\n",
       "      <th>State</th>\n",
       "      <th>Province</th>\n",
       "      <th>District</th>\n",
       "      <th>Poll_station</th>\n",
       "      <th>Ballot_summary_cond_2</th>\n",
       "      <th>Votes_2</th>\n",
       "      <th>Eligible_voters_2</th>\n",
       "      <th>Castillo_2</th>\n",
       "      <th>Fujimori_2</th>\n",
       "      <th>...</th>\n",
       "      <th>Galvez</th>\n",
       "      <th>Salaverry</th>\n",
       "      <th>Castillo_1</th>\n",
       "      <th>Alcantara</th>\n",
       "      <th>Acuna</th>\n",
       "      <th>Blank_1</th>\n",
       "      <th>Null_1</th>\n",
       "      <th>Contested_1</th>\n",
       "      <th>Elig_delta</th>\n",
       "      <th>Vote_delta</th>\n",
       "    </tr>\n",
       "  </thead>\n",
       "  <tbody>\n",
       "    <tr>\n",
       "      <th>0</th>\n",
       "      <td>10101</td>\n",
       "      <td>AMAZONAS</td>\n",
       "      <td>CHACHAPOYAS</td>\n",
       "      <td>CHACHAPOYAS</td>\n",
       "      <td>13</td>\n",
       "      <td>Counted</td>\n",
       "      <td>220.0</td>\n",
       "      <td>300</td>\n",
       "      <td>115.0</td>\n",
       "      <td>87.0</td>\n",
       "      <td>...</td>\n",
       "      <td>0.0</td>\n",
       "      <td>1.0</td>\n",
       "      <td>25.0</td>\n",
       "      <td>0.0</td>\n",
       "      <td>9.0</td>\n",
       "      <td>19.0</td>\n",
       "      <td>16.0</td>\n",
       "      <td>0.0</td>\n",
       "      <td>0</td>\n",
       "      <td>32.0</td>\n",
       "    </tr>\n",
       "    <tr>\n",
       "      <th>1</th>\n",
       "      <td>10101</td>\n",
       "      <td>AMAZONAS</td>\n",
       "      <td>CHACHAPOYAS</td>\n",
       "      <td>CHACHAPOYAS</td>\n",
       "      <td>26</td>\n",
       "      <td>Counted</td>\n",
       "      <td>144.0</td>\n",
       "      <td>300</td>\n",
       "      <td>71.0</td>\n",
       "      <td>58.0</td>\n",
       "      <td>...</td>\n",
       "      <td>2.0</td>\n",
       "      <td>1.0</td>\n",
       "      <td>7.0</td>\n",
       "      <td>0.0</td>\n",
       "      <td>4.0</td>\n",
       "      <td>13.0</td>\n",
       "      <td>17.0</td>\n",
       "      <td>0.0</td>\n",
       "      <td>0</td>\n",
       "      <td>41.0</td>\n",
       "    </tr>\n",
       "    <tr>\n",
       "      <th>2</th>\n",
       "      <td>10101</td>\n",
       "      <td>AMAZONAS</td>\n",
       "      <td>CHACHAPOYAS</td>\n",
       "      <td>CHACHAPOYAS</td>\n",
       "      <td>30</td>\n",
       "      <td>Counted</td>\n",
       "      <td>129.0</td>\n",
       "      <td>300</td>\n",
       "      <td>71.0</td>\n",
       "      <td>50.0</td>\n",
       "      <td>...</td>\n",
       "      <td>0.0</td>\n",
       "      <td>2.0</td>\n",
       "      <td>3.0</td>\n",
       "      <td>2.0</td>\n",
       "      <td>3.0</td>\n",
       "      <td>14.0</td>\n",
       "      <td>5.0</td>\n",
       "      <td>0.0</td>\n",
       "      <td>0</td>\n",
       "      <td>41.0</td>\n",
       "    </tr>\n",
       "  </tbody>\n",
       "</table>\n",
       "<p>3 rows × 40 columns</p>\n",
       "</div>"
      ],
      "text/plain": [
       "   Geocode     State     Province     District  Poll_station  \\\n",
       "0    10101  AMAZONAS  CHACHAPOYAS  CHACHAPOYAS            13   \n",
       "1    10101  AMAZONAS  CHACHAPOYAS  CHACHAPOYAS            26   \n",
       "2    10101  AMAZONAS  CHACHAPOYAS  CHACHAPOYAS            30   \n",
       "\n",
       "  Ballot_summary_cond_2  Votes_2  Eligible_voters_2  Castillo_2  Fujimori_2  \\\n",
       "0               Counted    220.0                300       115.0        87.0   \n",
       "1               Counted    144.0                300        71.0        58.0   \n",
       "2               Counted    129.0                300        71.0        50.0   \n",
       "\n",
       "   ...  Galvez  Salaverry  Castillo_1 Alcantara Acuna  Blank_1  Null_1  \\\n",
       "0  ...     0.0        1.0        25.0       0.0   9.0     19.0    16.0   \n",
       "1  ...     2.0        1.0         7.0       0.0   4.0     13.0    17.0   \n",
       "2  ...     0.0        2.0         3.0       2.0   3.0     14.0     5.0   \n",
       "\n",
       "   Contested_1  Elig_delta  Vote_delta  \n",
       "0          0.0           0        32.0  \n",
       "1          0.0           0        41.0  \n",
       "2          0.0           0        41.0  \n",
       "\n",
       "[3 rows x 40 columns]"
      ]
     },
     "execution_count": 7,
     "metadata": {},
     "output_type": "execute_result"
    }
   ],
   "source": [
    "dfr.head(3)"
   ]
  },
  {
   "cell_type": "code",
   "execution_count": 4,
   "id": "7e65c4ad",
   "metadata": {},
   "outputs": [
    {
     "data": {
      "text/plain": [
       "(84452, 40)"
      ]
     },
     "execution_count": 4,
     "metadata": {},
     "output_type": "execute_result"
    }
   ],
   "source": [
    "dfr.shape"
   ]
  },
  {
   "cell_type": "markdown",
   "id": "667f13e7",
   "metadata": {},
   "source": [
    "### 2. Fujimori National Model"
   ]
  },
  {
   "cell_type": "markdown",
   "id": "46e718b9",
   "metadata": {},
   "source": [
    "#### 2.1 Without Hyperparameter Optimization"
   ]
  },
  {
   "cell_type": "markdown",
   "id": "c14794bb",
   "metadata": {},
   "source": [
    "We will first try a decision tree regressor model with a max depth of 3 and without K-fold validation (only train and test) to contrast it's results with an optimized model later on.  "
   ]
  },
  {
   "cell_type": "code",
   "execution_count": 133,
   "id": "497421f1",
   "metadata": {},
   "outputs": [],
   "source": [
    "## Separating the target variable, Fujimori's second round vote count\n",
    "yf=dfr.iloc[:,9]"
   ]
  },
  {
   "cell_type": "code",
   "execution_count": 134,
   "id": "f80ada38",
   "metadata": {},
   "outputs": [],
   "source": [
    "## The independent variables are the delta in turnout for the second round and the votes of individual candidates in the first round \n",
    "X=dfr.iloc[:,[17,18,19,20,21,22,23,24,25,26,27,28,29,30,31,32,33,34,39]]"
   ]
  },
  {
   "cell_type": "code",
   "execution_count": 135,
   "id": "433404a1",
   "metadata": {},
   "outputs": [],
   "source": [
    "Xcol=X.columns"
   ]
  },
  {
   "cell_type": "code",
   "execution_count": 136,
   "id": "3c530c52",
   "metadata": {},
   "outputs": [],
   "source": [
    "# Train-Test-Split the data with a sample size of 30% for the test set\n",
    "X_train, X_test, y_train, y_test = train_test_split(X, yf, test_size=0.30, random_state=1)"
   ]
  },
  {
   "cell_type": "code",
   "execution_count": 138,
   "id": "9fae5925",
   "metadata": {},
   "outputs": [
    {
     "name": "stdout",
     "output_type": "stream",
     "text": [
      "DT R^2 score on training set: 0.784\n",
      "DT R^2 score on test set: 0.784\n"
     ]
    }
   ],
   "source": [
    "fujidt = DecisionTreeRegressor(max_depth=3)\n",
    "fujidt.fit(X_train, y_train)\n",
    "\n",
    "print(f\"DT R^2 score on training set: {fujidt.score(X_train, y_train):0.3f}\")\n",
    "print(f\"DT R^2 score on test set: {fujidt.score(X_test, y_test):0.3f}\")"
   ]
  },
  {
   "cell_type": "markdown",
   "id": "0b9c2481",
   "metadata": {},
   "source": [
    "Without optimization, the R2 of the national model is much lower than the linear regresion model, 0.92. However, the test and train have basically the same score. Let's see which features where the most important.  "
   ]
  },
  {
   "cell_type": "code",
   "execution_count": 39,
   "id": "06d38597",
   "metadata": {},
   "outputs": [
    {
     "data": {
      "text/plain": [
       "Index(['Humala', 'Arana', 'Guzman', 'Santos', 'Forsyth', 'Lescano', 'De_Soto',\n",
       "       'Urresti', 'Mendoza', 'Beingolea', 'Fujimori_1', 'Vega', 'Lopez',\n",
       "       'Galvez', 'Salaverry', 'Castillo_1', 'Alcantara', 'Acuna',\n",
       "       'Vote_delta'],\n",
       "      dtype='object')"
      ]
     },
     "execution_count": 39,
     "metadata": {},
     "output_type": "execute_result"
    }
   ],
   "source": [
    "Xcol"
   ]
  },
  {
   "cell_type": "code",
   "execution_count": 40,
   "id": "5ba1bdf6",
   "metadata": {},
   "outputs": [
    {
     "data": {
      "text/plain": [
       "array([0.        , 0.        , 0.        , 0.        , 0.02622839,\n",
       "       0.        , 0.0371334 , 0.        , 0.        , 0.        ,\n",
       "       0.23186734, 0.        , 0.59895282, 0.        , 0.        ,\n",
       "       0.10581805, 0.        , 0.        , 0.        ])"
      ]
     },
     "execution_count": 40,
     "metadata": {},
     "output_type": "execute_result"
    }
   ],
   "source": [
    "fujidt.feature_importances_"
   ]
  },
  {
   "cell_type": "code",
   "execution_count": 139,
   "id": "38a41b69",
   "metadata": {},
   "outputs": [],
   "source": [
    "## Let's see this better in a visualization. Let's create a dataframe\n",
    "share_var=pd.DataFrame(data=fujidt.feature_importances_, columns=['share_var'])"
   ]
  },
  {
   "cell_type": "code",
   "execution_count": 140,
   "id": "fb232570",
   "metadata": {},
   "outputs": [],
   "source": [
    "Xcol=pd.DataFrame(data=Xcol, columns=['features'])"
   ]
  },
  {
   "cell_type": "code",
   "execution_count": 141,
   "id": "ddd19166",
   "metadata": {},
   "outputs": [],
   "source": [
    "feat_impf=Xcol.merge(share_var, left_index=True, right_index=True)"
   ]
  },
  {
   "cell_type": "code",
   "execution_count": 142,
   "id": "e97a4533",
   "metadata": {},
   "outputs": [
    {
     "data": {
      "image/png": "[encoded data removed]",
      "text/plain": [
       "<Figure size 720x432 with 1 Axes>"
      ]
     },
     "metadata": {
      "needs_background": "light"
     },
     "output_type": "display_data"
    }
   ],
   "source": [
    "plt.figure(figsize=(10,6))\n",
    "plt.bar(feat_impf['features'], feat_impf['share_var'])\n",
    "plt.title('Feature importance - Fujimori model without optimization')\n",
    "plt.ylabel('Percent importance')\n",
    "plt.xlabel('Feature')\n",
    "plt.xticks(rotation=45)\n",
    "plt.show()"
   ]
  },
  {
   "cell_type": "markdown",
   "id": "8935d0b4",
   "metadata": {},
   "source": [
    "It seems that most variables are unnecessary. Only Lopez and DeSoto (who endorsed her), her own votes and Castillo's are relevant. In the case of Castillo, since this type of model does not show coefficients, we suppose that lower Castillo vote count is associated with higher for Fujimori.  \n",
    "\n",
    "Now, let's try to optimize the hyperparameters for the model. We will use this smaller model with only 5 variables to save processing time, the 4 candidates and the turnout delta, as it was an important feature in the linear regression model. "
   ]
  },
  {
   "cell_type": "markdown",
   "id": "ff0f3b7d",
   "metadata": {},
   "source": [
    "#### 2.2 With Hyperparameter Optimization  "
   ]
  },
  {
   "cell_type": "code",
   "execution_count": 146,
   "id": "3a0ad7d4",
   "metadata": {},
   "outputs": [],
   "source": [
    "## The independent variables are the delta in turnout for the second round and the votes of individual candidates in the first round \n",
    "X2=dfr.iloc[:,[23,27,29,32,39]]"
   ]
  },
  {
   "cell_type": "code",
   "execution_count": 147,
   "id": "8d89f659",
   "metadata": {},
   "outputs": [],
   "source": [
    "#Obtaining the array of column names for future use\n",
    "X2col=X2.columns"
   ]
  },
  {
   "cell_type": "code",
   "execution_count": 148,
   "id": "cabf4e2b",
   "metadata": {},
   "outputs": [],
   "source": [
    "## taking a 20% sample for the test set\n",
    "X2_remainder, X2_test, y2_remainder, y2_test = train_test_split(X2, yf, test_size = 0.2, random_state=1)"
   ]
  },
  {
   "cell_type": "markdown",
   "id": "2caf6ebb",
   "metadata": {},
   "source": [
    "In the following version of the model, we will use a 5-fold validation while trying to optimize the max depth up to 15 nodes. "
   ]
  },
  {
   "cell_type": "code",
   "execution_count": 149,
   "id": "ca4c525b",
   "metadata": {},
   "outputs": [],
   "source": [
    "## Optimizing for r2 with max depth\n",
    "## Creating an empty list for R2 scores and providing a list of possible max depths\n",
    "\n",
    "r2_crossval = []\n",
    "max_d = range(2,16)\n",
    "\n",
    "#Looping over the model with different depths while setting cross validation parameter at 5-fold\n",
    "for m in max_d:\n",
    "    DTmodel = DecisionTreeRegressor(max_depth=m)\n",
    "    r2 = np.mean(cross_val_score(DTmodel, X2_remainder, y2_remainder, cv = 5)) \n",
    "    r2_crossval.append(r2)"
   ]
  },
  {
   "cell_type": "code",
   "execution_count": 150,
   "id": "a41a96eb",
   "metadata": {},
   "outputs": [
    {
     "data": {
      "image/png": "[encoded data removed]",
      "text/plain": [
       "<Figure size 576x432 with 1 Axes>"
      ]
     },
     "metadata": {
      "needs_background": "light"
     },
     "output_type": "display_data"
    },
    {
     "name": "stdout",
     "output_type": "stream",
     "text": [
      "The best model has a max depth =  10\n"
     ]
    }
   ],
   "source": [
    "## Graphing the results\n",
    "plt.figure(figsize=(8,6))\n",
    "plt.plot(max_d, r2_crossval, label=\"R2 - cross validation\", marker='.')\n",
    "plt.legend()\n",
    "plt.title('R2 at different depths - Fujimori National Model')\n",
    "plt.xlabel('Depth of tree')\n",
    "plt.ylabel('R2 Score')\n",
    "plt.grid()\n",
    "plt.show();\n",
    "\n",
    "which_max = np.array(r2_crossval).argmax()\n",
    "\n",
    "print(\"The best model has a max depth = \",max_d[which_max])"
   ]
  },
  {
   "cell_type": "markdown",
   "id": "05827d5e",
   "metadata": {},
   "source": [
    "Now let's run a model with max depth 10 on the test set and score it. "
   ]
  },
  {
   "cell_type": "code",
   "execution_count": 151,
   "id": "00d88b1b",
   "metadata": {},
   "outputs": [
    {
     "data": {
      "text/plain": [
       "DecisionTreeRegressor(max_depth=10)"
      ]
     },
     "execution_count": 151,
     "metadata": {},
     "output_type": "execute_result"
    }
   ],
   "source": [
    "DTmodelopt = DecisionTreeRegressor(max_depth=10)\n",
    "DTmodelopt.fit(X2_test, y2_test)"
   ]
  },
  {
   "cell_type": "code",
   "execution_count": 152,
   "id": "c4117511",
   "metadata": {},
   "outputs": [
    {
     "data": {
      "text/plain": [
       "0.9400041478131703"
      ]
     },
     "execution_count": 152,
     "metadata": {},
     "output_type": "execute_result"
    }
   ],
   "source": [
    "DTmodelopt.score(X2_test, y2_test)"
   ]
  },
  {
   "cell_type": "markdown",
   "id": "d4db6e0b",
   "metadata": {},
   "source": [
    "The R2 of the model 0.94, better than linear regression's 0.924. We can obtain a prediction array and add it to the dataframe. "
   ]
  },
  {
   "cell_type": "code",
   "execution_count": 153,
   "id": "99da55c7",
   "metadata": {},
   "outputs": [],
   "source": [
    "## predict on the X2 dataset\n",
    "y2_predict = DTmodelopt.predict(X2)"
   ]
  },
  {
   "cell_type": "code",
   "execution_count": 154,
   "id": "e958a94d",
   "metadata": {},
   "outputs": [
    {
     "data": {
      "text/plain": [
       "array([100.61904762,  71.45762712,  63.05263158, ..., 124.1971831 ,\n",
       "       103.51282051, 115.76229508])"
      ]
     },
     "execution_count": 154,
     "metadata": {},
     "output_type": "execute_result"
    }
   ],
   "source": [
    "## these predictions can be included into the dataframe as a column\n",
    "y2_predict"
   ]
  },
  {
   "cell_type": "code",
   "execution_count": 155,
   "id": "7281ffb2",
   "metadata": {},
   "outputs": [],
   "source": [
    "## include these predictions into the dataset\n",
    "dfr['tree_pred']=y2_predict"
   ]
  },
  {
   "cell_type": "code",
   "execution_count": 156,
   "id": "7b07ae53",
   "metadata": {},
   "outputs": [
    {
     "data": {
      "text/plain": [
       "Index(['Geocode', 'State', 'Province', 'District', 'Poll_station',\n",
       "       'Ballot_summary_cond_2', 'Votes_2', 'Eligible_voters_2', 'Castillo_2',\n",
       "       'Fujimori_2', 'Blank_2', 'Null_2', 'Contested_2', 'Region',\n",
       "       'Ballot_summary_cond_1', 'Votes_1', 'Eligible_voters_1', 'Humala',\n",
       "       'Arana', 'Guzman', 'Santos', 'Forsyth', 'Lescano', 'De_Soto', 'Urresti',\n",
       "       'Mendoza', 'Beingolea', 'Fujimori_1', 'Vega', 'Lopez', 'Galvez',\n",
       "       'Salaverry', 'Castillo_1', 'Alcantara', 'Acuna', 'Blank_1', 'Null_1',\n",
       "       'Contested_1', 'Elig_delta', 'Vote_delta', 'tree_pred'],\n",
       "      dtype='object')"
      ]
     },
     "execution_count": 156,
     "metadata": {},
     "output_type": "execute_result"
    }
   ],
   "source": [
    "dfr.columns"
   ]
  },
  {
   "cell_type": "code",
   "execution_count": 157,
   "id": "bbcfcaed",
   "metadata": {
    "scrolled": true
   },
   "outputs": [
    {
     "data": {
      "text/plain": [
       "array([0.08200409, 0.23429001, 0.5432615 , 0.13225521, 0.00818919])"
      ]
     },
     "execution_count": 157,
     "metadata": {},
     "output_type": "execute_result"
    }
   ],
   "source": [
    "## Taking a look at the feature importances\n",
    "DTmodelopt.feature_importances_"
   ]
  },
  {
   "cell_type": "code",
   "execution_count": 158,
   "id": "d82217e5",
   "metadata": {},
   "outputs": [
    {
     "data": {
      "text/plain": [
       "Index(['De_Soto', 'Fujimori_1', 'Lopez', 'Castillo_1', 'Vote_delta'], dtype='object')"
      ]
     },
     "execution_count": 158,
     "metadata": {},
     "output_type": "execute_result"
    }
   ],
   "source": [
    "X2col"
   ]
  },
  {
   "cell_type": "markdown",
   "id": "10014d38",
   "metadata": {},
   "source": [
    "These are the feature importances for the last max_depth model (10) fit on the test set. The most important feature is the third one, Lopez votes, with the second one being Fujimori votes. Turnout delta is almost non relevant. Since the model has 10 nodes, a visual representation is impractical. Nevertheless, we can use these new predicted values to run the outlier analysis again and compare.  "
   ]
  },
  {
   "cell_type": "markdown",
   "id": "1ebe6a9d",
   "metadata": {},
   "source": [
    "### 3. Castillo National Model"
   ]
  },
  {
   "cell_type": "markdown",
   "id": "4fa0db69",
   "metadata": {},
   "source": [
    "We will run a similar model to the optimized version above using Castillo's second round vote as the target.  "
   ]
  },
  {
   "cell_type": "markdown",
   "id": "fce42878",
   "metadata": {},
   "source": [
    "### 3.1 With Hyperameter Optimization "
   ]
  },
  {
   "cell_type": "code",
   "execution_count": 159,
   "id": "457a5b7a",
   "metadata": {},
   "outputs": [],
   "source": [
    "## Separating the target variable, Castillo's second round vote count\n",
    "yc=dfr.iloc[:,8]"
   ]
  },
  {
   "cell_type": "code",
   "execution_count": 160,
   "id": "ca458eb1",
   "metadata": {},
   "outputs": [],
   "source": [
    "## The independent variables are the delta in turnout for the second round and the votes of individual candidates in the first round \n",
    "Xc=dfr.iloc[:,[17,18,19,20,21,22,23,24,25,26,27,28,29,30,31,32,33,34,39]]"
   ]
  },
  {
   "cell_type": "code",
   "execution_count": 161,
   "id": "322bbbf1",
   "metadata": {},
   "outputs": [],
   "source": [
    "Xccol=Xc.columns"
   ]
  },
  {
   "cell_type": "code",
   "execution_count": 162,
   "id": "1f349fc1",
   "metadata": {},
   "outputs": [],
   "source": [
    "## taking a 20% sample for the test set\n",
    "Xc_remainder, Xc_test, yc_remainder, yc_test = train_test_split(Xc, yc, test_size = 0.2, random_state=1)"
   ]
  },
  {
   "cell_type": "code",
   "execution_count": 163,
   "id": "6035b14c",
   "metadata": {},
   "outputs": [],
   "source": [
    "## Optimizing for r2 with max depth\n",
    "## Creating an empty list for R2 scores and providing a list of possible max depths\n",
    "\n",
    "r2_crossval_c = []\n",
    "max_d = range(2,16)\n",
    "\n",
    "#Looping over the model with different depths while setting cross validation parameter at 5-fold\n",
    "for m in max_d:\n",
    "    DTmodelc = DecisionTreeRegressor(max_depth=m)\n",
    "    r2 = np.mean(cross_val_score(DTmodelc, Xc_remainder, yc_remainder, cv = 5)) \n",
    "    r2_crossval_c.append(r2)"
   ]
  },
  {
   "cell_type": "code",
   "execution_count": 164,
   "id": "8ac189f7",
   "metadata": {},
   "outputs": [
    {
     "data": {
      "image/png": "[encoded data removed]",
      "text/plain": [
       "<Figure size 576x432 with 1 Axes>"
      ]
     },
     "metadata": {
      "needs_background": "light"
     },
     "output_type": "display_data"
    },
    {
     "name": "stdout",
     "output_type": "stream",
     "text": [
      "The best model has a max depth =  11\n"
     ]
    }
   ],
   "source": [
    "## Graphing the results\n",
    "plt.figure(figsize=(8,6))\n",
    "plt.plot(max_d, r2_crossval_c, label=\"R2 - cross validation\", marker='.')\n",
    "plt.legend()\n",
    "plt.title('R2 at different depths - Castillo National Model')\n",
    "plt.xlabel('Depth of tree')\n",
    "plt.ylabel('R2 Score')\n",
    "plt.grid()\n",
    "plt.show();\n",
    "\n",
    "which_max = np.array(r2_crossval_c).argmax()\n",
    "\n",
    "print(\"The best model has a max depth = \",max_d[which_max])"
   ]
  },
  {
   "cell_type": "code",
   "execution_count": 165,
   "id": "40d11cf0",
   "metadata": {},
   "outputs": [
    {
     "data": {
      "text/plain": [
       "DecisionTreeRegressor(max_depth=11)"
      ]
     },
     "execution_count": 165,
     "metadata": {},
     "output_type": "execute_result"
    }
   ],
   "source": [
    "## Now let's score the Castillo model on the test set\n",
    "DTmodeloptc = DecisionTreeRegressor(max_depth=11)\n",
    "DTmodeloptc.fit(Xc_test, yc_test)"
   ]
  },
  {
   "cell_type": "code",
   "execution_count": 166,
   "id": "8499d0a9",
   "metadata": {},
   "outputs": [
    {
     "data": {
      "text/plain": [
       "0.9321917780094217"
      ]
     },
     "execution_count": 166,
     "metadata": {},
     "output_type": "execute_result"
    }
   ],
   "source": [
    "DTmodeloptc.score(Xc_test, yc_test)"
   ]
  },
  {
   "cell_type": "markdown",
   "id": "922b0979",
   "metadata": {},
   "source": [
    "This is an interersting improvement over R2 of the linear regresion model, 0.902.   "
   ]
  },
  {
   "cell_type": "code",
   "execution_count": 167,
   "id": "e2ca439b",
   "metadata": {},
   "outputs": [],
   "source": [
    "## predict on the X2 dataset\n",
    "yc_predict = DTmodeloptc.predict(Xc)"
   ]
  },
  {
   "cell_type": "code",
   "execution_count": 168,
   "id": "d85dbcfb",
   "metadata": {},
   "outputs": [],
   "source": [
    "## include these predictions into the dataset\n",
    "dfr['tree_pred_cast']=yc_predict"
   ]
  },
  {
   "cell_type": "code",
   "execution_count": 169,
   "id": "93a13eaf",
   "metadata": {},
   "outputs": [
    {
     "data": {
      "text/plain": [
       "Index(['Geocode', 'State', 'Province', 'District', 'Poll_station',\n",
       "       'Ballot_summary_cond_2', 'Votes_2', 'Eligible_voters_2', 'Castillo_2',\n",
       "       'Fujimori_2', 'Blank_2', 'Null_2', 'Contested_2', 'Region',\n",
       "       'Ballot_summary_cond_1', 'Votes_1', 'Eligible_voters_1', 'Humala',\n",
       "       'Arana', 'Guzman', 'Santos', 'Forsyth', 'Lescano', 'De_Soto', 'Urresti',\n",
       "       'Mendoza', 'Beingolea', 'Fujimori_1', 'Vega', 'Lopez', 'Galvez',\n",
       "       'Salaverry', 'Castillo_1', 'Alcantara', 'Acuna', 'Blank_1', 'Null_1',\n",
       "       'Contested_1', 'Elig_delta', 'Vote_delta', 'tree_pred',\n",
       "       'tree_pred_cast'],\n",
       "      dtype='object')"
      ]
     },
     "execution_count": 169,
     "metadata": {},
     "output_type": "execute_result"
    }
   ],
   "source": [
    "dfr.columns"
   ]
  },
  {
   "cell_type": "code",
   "execution_count": 170,
   "id": "90888df7",
   "metadata": {},
   "outputs": [
    {
     "data": {
      "text/plain": [
       "array([1.17011379e-02, 1.06355788e-03, 3.97782768e-04, 3.04415944e-04,\n",
       "       2.32048986e-03, 5.07699324e-02, 9.46837428e-03, 9.59545138e-03,\n",
       "       3.86686850e-02, 7.89880369e-04, 6.08176461e-03, 1.62820560e-03,\n",
       "       3.63552401e-03, 2.16589391e-03, 4.75317488e-03, 8.20768013e-01,\n",
       "       7.07425875e-04, 2.79341561e-02, 7.24613415e-03])"
      ]
     },
     "execution_count": 170,
     "metadata": {},
     "output_type": "execute_result"
    }
   ],
   "source": [
    "## Taking a look at the feature importances\n",
    "DTmodeloptc.feature_importances_"
   ]
  },
  {
   "cell_type": "code",
   "execution_count": 171,
   "id": "6655c975",
   "metadata": {},
   "outputs": [
    {
     "data": {
      "text/plain": [
       "Index(['Humala', 'Arana', 'Guzman', 'Santos', 'Forsyth', 'Lescano', 'De_Soto',\n",
       "       'Urresti', 'Mendoza', 'Beingolea', 'Fujimori_1', 'Vega', 'Lopez',\n",
       "       'Galvez', 'Salaverry', 'Castillo_1', 'Alcantara', 'Acuna',\n",
       "       'Vote_delta'],\n",
       "      dtype='object')"
      ]
     },
     "execution_count": 171,
     "metadata": {},
     "output_type": "execute_result"
    }
   ],
   "source": [
    "Xccol"
   ]
  },
  {
   "cell_type": "markdown",
   "id": "34da9dd0",
   "metadata": {},
   "source": [
    "For the most part, importances are low except for Castillo's, and to a lesser extend Mendoza's, something we also saw in the regression analysis. "
   ]
  },
  {
   "cell_type": "markdown",
   "id": "e65f9959",
   "metadata": {},
   "source": [
    "### 4. Predicted vs Official Data"
   ]
  },
  {
   "cell_type": "code",
   "execution_count": 172,
   "id": "9b609443",
   "metadata": {},
   "outputs": [
    {
     "data": {
      "image/png": "[encoded data removed]",
      "text/plain": [
       "<Figure size 1080x504 with 2 Axes>"
      ]
     },
     "metadata": {
      "needs_background": "light"
     },
     "output_type": "display_data"
    }
   ],
   "source": [
    "## Putting them side by side\n",
    "plt.subplots(1,2, figsize=(15,7))\n",
    "\n",
    "plt.subplot(1, 2, 1)\n",
    "plt.scatter(dfr['Fujimori_2'], dfr['tree_pred'], color='orange')\n",
    "plt.xlabel('Actual votes')\n",
    "plt.ylabel('Expected votes')\n",
    "##plt.yticks(np.arange(0, 140, step=10))\n",
    "plt.title('Expected vs Actual Votes - Fujimori National')\n",
    "\n",
    "plt.subplot(1, 2, 2)\n",
    "plt.scatter(dfr['Castillo_2'], dfr['tree_pred_cast'], color='black')\n",
    "plt.xlabel('Actual votes')\n",
    "plt.ylabel('Expected votes')\n",
    "##plt.yticks(np.arange(0, 140, step=10))\n",
    "plt.title('Expected vs Actual Votes - Castillo National')\n",
    "\n",
    "plt.show()"
   ]
  },
  {
   "cell_type": "markdown",
   "id": "e464ca41",
   "metadata": {},
   "source": [
    "By and large, expected and actual votes match for both candidates along a straight line. We can see in the case of Fujimori some outliers in the top half, where she obtained less votes than expected. The same can be said about Castillo. "
   ]
  },
  {
   "cell_type": "markdown",
   "id": "3fc46917",
   "metadata": {},
   "source": [
    "### 5. Conclusion: "
   ]
  },
  {
   "cell_type": "markdown",
   "id": "ff263763",
   "metadata": {},
   "source": [
    "The Decision Tree Regressor model has improved the R2 of both candidates at the national level when comparing with the linear regression models developed in Notebook 2. In a next iteration of this project, the predicted results can serve to contrast the results of the outlier analysis obtained with regression analysis.    \n",
    "\n",
    "The DTR model has confirmed some of the findings of the linear regressor. In the case of Fujimori, the importance of the endorsement of Lopez de Aliaga and De Soto. In the case of Castillo, he was riding high on his own momentum and some support from progressive leftist Veronika Mendoza. She shows the second highest regression coefficient and the second feature importance for Castillo, after Castillo's first round performance.  "
   ]
  },
  {
   "cell_type": "code",
   "execution_count": null,
   "id": "3691d2f1",
   "metadata": {},
   "outputs": [],
   "source": []
  }
 ],
 "metadata": {
  "kernelspec": {
   "display_name": "Python 3",
   "language": "python",
   "name": "python3"
  },
  "language_info": {
   "codemirror_mode": {
    "name": "ipython",
    "version": 3
   },
   "file_extension": ".py",
   "mimetype": "text/x-python",
   "name": "python",
   "nbconvert_exporter": "python",
   "pygments_lexer": "ipython3",
   "version": "3.8.8"
  },
  "toc": {
   "base_numbering": 1,
   "nav_menu": {},
   "number_sections": false,
   "sideBar": true,
   "skip_h1_title": true,
   "title_cell": "Table of Contents",
   "title_sidebar": "Contents",
   "toc_cell": false,
   "toc_position": {
    "height": "calc(100% - 180px)",
    "left": "10px",
    "top": "150px",
    "width": "307.2px"
   },
   "toc_section_display": true,
   "toc_window_display": true
  },
  "varInspector": {
   "cols": {
    "lenName": 16,
    "lenType": 16,
    "lenVar": 40
   },
   "kernels_config": {
    "python": {
     "delete_cmd_postfix": "",
     "delete_cmd_prefix": "del ",
     "library": "var_list.py",
     "varRefreshCmd": "print(var_dic_list())"
    },
    "r": {
     "delete_cmd_postfix": ") ",
     "delete_cmd_prefix": "rm(",
     "library": "var_list.r",
     "varRefreshCmd": "cat(var_dic_list()) "
    }
   },
   "types_to_exclude": [
    "module",
    "function",
    "builtin_function_or_method",
    "instance",
    "_Feature"
   ],
   "window_display": false
  }
 },
 "nbformat": 4,
 "nbformat_minor": 5
}
